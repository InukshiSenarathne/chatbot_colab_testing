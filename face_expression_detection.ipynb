{
  "cells": [
    {
      "cell_type": "markdown",
      "metadata": {
        "id": "view-in-github",
        "colab_type": "text"
      },
      "source": [
        "<a href=\"https://colab.research.google.com/github/InukshiSenarathne/chatbot_colab_testing/blob/main/face_expression_detection.ipynb\" target=\"_parent\"><img src=\"https://colab.research.google.com/assets/colab-badge.svg\" alt=\"Open In Colab\"/></a>"
      ]
    },
    {
      "cell_type": "code",
      "execution_count": null,
      "metadata": {
        "id": "FWgEi2p9bq0X"
      },
      "outputs": [],
      "source": []
    },
    {
      "cell_type": "code",
      "execution_count": null,
      "metadata": {
        "id": "m4cNZPVKu455"
      },
      "outputs": [],
      "source": [
        "!pip install tensorflow==2.9.1"
      ]
    },
    {
      "cell_type": "code",
      "execution_count": 1,
      "metadata": {
        "colab": {
          "base_uri": "https://localhost:8080/"
        },
        "id": "a6d-etKjuc3s",
        "outputId": "5a7f91fd-7aba-4a1f-ceb5-fe6caaf9d98a"
      },
      "outputs": [
        {
          "output_type": "stream",
          "name": "stdout",
          "text": [
            "modules loaded\n"
          ]
        }
      ],
      "source": [
        "import os\n",
        "os.environ['TF_CPP_MIN_LOG_LEVEL'] = '2'\n",
        "import tensorflow as tf\n",
        "from tensorflow import keras\n",
        "from tensorflow.keras import backend as K\n",
        "from tensorflow.keras.layers import Dense, Activation,Dropout,Conv2D, MaxPooling2D,BatchNormalization, Flatten\n",
        "from tensorflow.keras.optimizers import Adam, Adamax\n",
        "from tensorflow.keras.metrics import categorical_crossentropy\n",
        "from tensorflow.keras import regularizers\n",
        "from tensorflow.keras.preprocessing.image import ImageDataGenerator\n",
        "from tensorflow.keras.models import Model, load_model, Sequential\n",
        "import numpy as np\n",
        "import pandas as pd\n",
        "import shutil\n",
        "import time\n",
        "import cv2 as cv2\n",
        "from tqdm import tqdm\n",
        "from sklearn.model_selection import train_test_split\n",
        "import matplotlib.pyplot as plt\n",
        "from matplotlib.pyplot import imshow\n",
        "import seaborn as sns\n",
        "sns.set_style('darkgrid')\n",
        "from PIL import Image\n",
        "from sklearn.metrics import confusion_matrix, classification_report\n",
        "from IPython.core.display import display, HTML\n",
        "# stop annoying tensorflow warning messages\n",
        "import logging\n",
        "logging.getLogger(\"tensorflow\").setLevel(logging.ERROR)\n",
        "print ('modules loaded')\n"
      ]
    },
    {
      "cell_type": "code",
      "execution_count": 2,
      "metadata": {
        "id": "igJdkQwSvYpP"
      },
      "outputs": [],
      "source": [
        "class LRA(keras.callbacks.Callback):\n",
        "    def __init__(self,model, base_model, patience,stop_patience, threshold, factor, dwell, batches, initial_epoch,epochs, ask_epoch):\n",
        "        super(LRA, self).__init__()\n",
        "        self.model=model\n",
        "        self.base_model=base_model\n",
        "        self.patience=patience # specifies how many epochs without improvement before learning rate is adjusted\n",
        "        self.stop_patience=stop_patience # specifies how many times to adjust lr without improvement to stop training\n",
        "        self.threshold=threshold # specifies training accuracy threshold when lr will be adjusted based on validation loss\n",
        "        self.factor=factor # factor by which to reduce the learning rate\n",
        "        self.dwell=dwell\n",
        "        self.batches=batches # number of training batch to runn per epoch\n",
        "        self.initial_epoch=initial_epoch\n",
        "        self.epochs=epochs\n",
        "        self.ask_epoch=ask_epoch\n",
        "        self.ask_epoch_initial=ask_epoch # save this value to restore if restarting training\n",
        "        # callback variables\n",
        "        self.count=0 # how many times lr has been reduced without improvement\n",
        "        self.stop_count=0\n",
        "        self.best_epoch=1   # epoch with the lowest loss\n",
        "        self.initial_lr=float(tf.keras.backend.get_value(model.optimizer.lr)) # get the initiallearning rate and save it\n",
        "        self.highest_tracc=0.0 # set highest training accuracy to 0 initially\n",
        "        self.lowest_vloss=np.inf # set lowest validation loss to infinity initially\n",
        "        self.best_weights=self.model.get_weights() # set best weights to model's initial weights\n",
        "        self.initial_weights=self.model.get_weights()   # save initial weights if they have to get restored\n",
        "\n",
        "    def on_train_begin(self, logs=None):\n",
        "        if self.base_model != None:\n",
        "            status=base_model.trainable\n",
        "            if status:\n",
        "                msg=' initializing callback starting training with base_model trainable'\n",
        "            else:\n",
        "                msg='initializing callback starting training with base_model not trainable'\n",
        "        else:\n",
        "            msg='initialing callback and starting training'\n",
        "            print(msg)\n",
        "        msg='{0:^8s}{1:^10s}{2:^9s}{3:^9s}{4:^9s}{5:^9s}{6:^9s}{7:^10s}{8:10s}{9:^8s}'.format('Epoch', 'Loss', 'Accuracy','V_loss','V_acc', 'LR', 'Next LR', 'Monitor','% Improv', 'Duration')\n",
        "        print(msg)\n",
        "        self.start_time= time.time()\n",
        "\n",
        "    def on_train_end(self, logs=None):\n",
        "        stop_time=time.time()\n",
        "        tr_duration= stop_time- self.start_time\n",
        "        hours = tr_duration // 3600\n",
        "        minutes = (tr_duration - (hours * 3600)) // 60\n",
        "        seconds = tr_duration - ((hours * 3600) + (minutes * 60))\n",
        "\n",
        "        self.model.set_weights(self.best_weights) # set the weights of the model to the best weights\n",
        "        msg=f'Training is completed - model is set with weights from epoch {self.best_epoch} '\n",
        "        print(msg)\n",
        "        msg = f'training elapsed time was {str(hours)} hours, {minutes:4.1f} minutes, {seconds:4.2f} seconds)'\n",
        "        print(msg)\n",
        "\n",
        "    def on_train_batch_end(self, batch, logs=None):\n",
        "        acc=logs.get('accuracy')* 100  # get training accuracy\n",
        "        loss=logs.get('loss')\n",
        "        msg='{0:20s}processing batch {1:4s} of {2:5s} accuracy= {3:8.3f}  loss: {4:8.5f}'.format(' ', str(batch), str(self.batches), acc, loss)\n",
        "        print(msg, '\\r', end='') # prints over on the same line to show running batch count\n",
        "\n",
        "    def on_epoch_begin(self,epoch, logs=None):\n",
        "        self.now= time.time()\n",
        "\n",
        "    def on_epoch_end(self, epoch, logs=None):  # method runs on the end of each epoch\n",
        "        later=time.time()\n",
        "        duration=later-self.now\n",
        "        lr=float(tf.keras.backend.get_value(self.model.optimizer.lr)) # get the current learning rate\n",
        "        current_lr=lr\n",
        "        v_loss=logs.get('val_loss')  # get the validation loss for this epoch\n",
        "        acc=logs.get('accuracy')  # get training accuracy\n",
        "        v_acc=logs.get('val_accuracy')\n",
        "        loss=logs.get('loss')\n",
        "        if acc < self.threshold: # if training accuracy is below threshold adjust lr based on training accuracy\n",
        "            monitor='accuracy'\n",
        "            if epoch ==0:\n",
        "                pimprov=0.0\n",
        "            else:\n",
        "                pimprov= (acc-self.highest_tracc )*100/self.highest_tracc\n",
        "            if acc>self.highest_tracc: # training accuracy improved in the epoch\n",
        "                self.highest_tracc=acc # set new highest training accuracy\n",
        "                self.best_weights=self.model.get_weights() # traing accuracy improved so save the weights\n",
        "                self.count=0 # set count to 0 since training accuracy improved\n",
        "                self.stop_count=0 # set stop counter to 0\n",
        "                if v_loss<self.lowest_vloss:\n",
        "                    self.lowest_vloss=v_loss\n",
        "                color= (0,255,0)\n",
        "                self.best_epoch=epoch + 1  # set the value of best epoch for this epoch\n",
        "            else:\n",
        "                # training accuracy did not improve check if this has happened for patience number of epochs\n",
        "                # if so adjust learning rate\n",
        "                if self.count>=self.patience -1: # lr should be adjusted\n",
        "                    color=(245, 170, 66)\n",
        "                    lr= lr* self.factor # adjust the learning by factor\n",
        "                    tf.keras.backend.set_value(self.model.optimizer.lr, lr) # set the learning rate in the optimizer\n",
        "                    self.count=0 # reset the count to 0\n",
        "                    self.stop_count=self.stop_count + 1 # count the number of consecutive lr adjustments\n",
        "                    self.count=0 # reset counter\n",
        "                    if self.dwell:\n",
        "                        self.model.set_weights(self.best_weights) # return to better point in N space\n",
        "                    else:\n",
        "                        if v_loss<self.lowest_vloss:\n",
        "                            self.lowest_vloss=v_loss\n",
        "                else:\n",
        "                    self.count=self.count +1 # increment patience counter\n",
        "        else: # training accuracy is above threshold so adjust learning rate based on validation loss\n",
        "            monitor='val_loss'\n",
        "            if epoch ==0:\n",
        "                pimprov=0.0\n",
        "            else:\n",
        "                pimprov= (self.lowest_vloss- v_loss )*100/self.lowest_vloss\n",
        "            if v_loss< self.lowest_vloss: # check if the validation loss improved\n",
        "                self.lowest_vloss=v_loss # replace lowest validation loss with new validation loss\n",
        "                self.best_weights=self.model.get_weights() # validation loss improved so save the weights\n",
        "                self.count=0 # reset count since validation loss improved\n",
        "                self.stop_count=0\n",
        "                color=(0,255,0)\n",
        "                self.best_epoch=epoch + 1 # set the value of the best epoch to this epoch\n",
        "            else: # validation loss did not improve\n",
        "                if self.count>=self.patience-1: # need to adjust lr\n",
        "                    color=(245, 170, 66)\n",
        "                    lr=lr * self.factor # adjust the learning rate\n",
        "                    self.stop_count=self.stop_count + 1 # increment stop counter because lr was adjusted\n",
        "                    self.count=0 # reset counter\n",
        "                    tf.keras.backend.set_value(self.model.optimizer.lr, lr) # set the learning rate in the optimizer\n",
        "                    if self.dwell:\n",
        "                        self.model.set_weights(self.best_weights) # return to better point in N space\n",
        "                else:\n",
        "                    self.count =self.count +1 # increment the patience counter\n",
        "                if acc>self.highest_tracc:\n",
        "                    self.highest_tracc= acc\n",
        "        msg=f'{str(epoch+1):^3s}/{str(self.epochs):4s} {loss:^9.3f}{acc*100:^9.3f}{v_loss:^9.5f}{v_acc*100:^9.3f}{current_lr:^9.5f}{lr:^9.5f}{monitor:^11s}{pimprov:^10.2f}{duration:^8.2f}'\n",
        "        print(msg)\n",
        "        if self.stop_count> self.stop_patience - 1: # check if learning rate has been adjusted stop_count times with no improvement\n",
        "            msg=f' training has been halted at epoch {epoch + 1} after {self.stop_patience} adjustments of learning rate with no improvement'\n",
        "            print(msg)\n",
        "            self.model.stop_training = True # stop training\n",
        "        else:\n",
        "            if self.ask_epoch !=None:\n",
        "                if epoch + 1 >= self.ask_epoch:\n",
        "                    if base_model.trainable:\n",
        "                        msg='enter H to halt training or an integer for number of epochs to run then ask again'\n",
        "                    else:\n",
        "                        msg='enter H to halt training ,F to fine tune model, or an integer for number of epochs to run then ask again'\n",
        "                    print(msg)\n",
        "                    ans=input('')\n",
        "                    if ans=='H' or ans=='h':\n",
        "                        msg=f'training has been halted at epoch {epoch + 1} due to user input'\n",
        "                        print(msg)\n",
        "                        self.model.stop_training = True # stop training\n",
        "                    elif ans == 'F' or ans=='f':\n",
        "                        if base_model.trainable:\n",
        "                            msg='base_model is already set as trainable'\n",
        "                        else:\n",
        "                            msg='setting base_model as trainable for fine tuning of model'\n",
        "                            self.base_model.trainable=True\n",
        "                        print(msg)\n",
        "                        msg='{0:^8s}{1:^10s}{2:^9s}{3:^9s}{4:^9s}{5:^9s}{6:^9s}{7:^10s}{8:^8s}'.format('Epoch', 'Loss', 'Accuracy',\n",
        "                                                                                              'V_loss','V_acc', 'LR', 'Next LR', 'Monitor','% Improv', 'Duration')\n",
        "                        print(msg)\n",
        "                        self.count=0\n",
        "                        self.stop_count=0\n",
        "                        self.ask_epoch = epoch + 1 + self.ask_epoch_initial\n",
        "\n",
        "                    else:\n",
        "                        ans=int(ans)\n",
        "                        self.ask_epoch +=ans\n",
        "                        msg=f' training will continue until epoch ' + str(self.ask_epoch)\n",
        "                        print(msg)\n",
        "                        msg='{0:^8s}{1:^10s}{2:^9s}{3:^9s}{4:^9s}{5:^9s}{6:^9s}{7:^10s}{8:10s}{9:^8s}'.format('Epoch', 'Loss', 'Accuracy',\n",
        "                                                                                              'V_loss','V_acc', 'LR', 'Next LR', 'Monitor','% Improv', 'Duration')\n",
        "                        print(msg)\n",
        "\n",
        "#showing training and validation Losse\n",
        "def tr_plot(tr_data, start_epoch):\n",
        "    #Plot the training and validation data\n",
        "    tacc=tr_data.history['accuracy']\n",
        "    tloss=tr_data.history['loss']\n",
        "    vacc=tr_data.history['val_accuracy']\n",
        "    vloss=tr_data.history['val_loss']\n",
        "    Epoch_count=len(tacc)+ start_epoch\n",
        "    Epochs=[]\n",
        "    for i in range (start_epoch ,Epoch_count):\n",
        "        Epochs.append(i+1)\n",
        "    index_loss=np.argmin(vloss)#  this is the epoch with the lowest validation loss\n",
        "    val_lowest=vloss[index_loss]\n",
        "    index_acc=np.argmax(vacc)\n",
        "    acc_highest=vacc[index_acc]\n",
        "    plt.style.use('fivethirtyeight')\n",
        "    sc_label='best epoch= '+ str(index_loss+1 +start_epoch)\n",
        "    vc_label='best epoch= '+ str(index_acc + 1+ start_epoch)\n",
        "    fig,axes=plt.subplots(nrows=1, ncols=2, figsize=(20,8))\n",
        "    axes[0].plot(Epochs,tloss, 'r', label='Training loss')\n",
        "    axes[0].plot(Epochs,vloss,'g',label='Validation loss' )\n",
        "    axes[0].scatter(index_loss+1 +start_epoch,val_lowest, s=150, c= 'blue', label=sc_label)\n",
        "    axes[0].set_title('Training and Validation Loss')\n",
        "    axes[0].set_xlabel('Epochs')\n",
        "    axes[0].set_ylabel('Loss')\n",
        "    axes[0].legend()\n",
        "    axes[1].plot (Epochs,tacc,'r',label= 'Training Accuracy')\n",
        "    axes[1].plot (Epochs,vacc,'g',label= 'Validation Accuracy')\n",
        "    axes[1].scatter(index_acc+1 +start_epoch,acc_highest, s=150, c= 'blue', label=vc_label)\n",
        "    axes[1].set_title('Training and Validation Accuracy')\n",
        "    axes[1].set_xlabel('Epochs')\n",
        "    axes[1].set_ylabel('Accuracy')\n",
        "    axes[1].legend()\n",
        "    plt.tight_layout\n",
        "    #plt.style.use('fivethirtyeight')\n",
        "    plt.show()\n",
        "\n",
        "#The function then generates a confusion matrix and classification report based on the true labels and predicted classes.\n",
        "def print_info( test_gen, preds, print_code, save_dir, subject ):\n",
        "    class_dict=test_gen.class_indices\n",
        "    labels= test_gen.labels\n",
        "    file_names= test_gen.filenames\n",
        "    error_list=[]\n",
        "    true_class=[]\n",
        "    pred_class=[]\n",
        "    prob_list=[]\n",
        "    new_dict={}\n",
        "    error_indices=[]\n",
        "    y_pred=[]\n",
        "    for key,value in class_dict.items():\n",
        "        new_dict[value]=key             # dictionary {integer of class number: string of class name}\n",
        "    # store new_dict as a text fine in the save_dir\n",
        "    classes=list(new_dict.values())     # list of string of class names\n",
        "    errors=0\n",
        "    for i, p in enumerate(preds):\n",
        "        pred_index=np.argmax(p)\n",
        "        true_index=labels[i]  # labels are integer values\n",
        "        if pred_index != true_index: # a misclassification has occurred\n",
        "            error_list.append(file_names[i])\n",
        "            true_class.append(new_dict[true_index])\n",
        "            pred_class.append(new_dict[pred_index])\n",
        "            prob_list.append(p[pred_index])\n",
        "            error_indices.append(true_index)\n",
        "            errors=errors + 1\n",
        "        y_pred.append(pred_index)\n",
        "    if print_code !=0:\n",
        "        if errors>0:\n",
        "            if print_code>errors:\n",
        "                r=errors\n",
        "            else:\n",
        "                r=print_code\n",
        "            msg='{0:^28s}{1:^28s}{2:^28s}{3:^16s}'.format('Filename', 'Predicted Class' , 'True Class', 'Probability')\n",
        "            print(msg)\n",
        "            for i in range(r):\n",
        "                split1=os.path.split(error_list[i])\n",
        "                split2=os.path.split(split1[0])\n",
        "                fname=split2[1] + '/' + split1[1]\n",
        "                msg='{0:^28s}{1:^28s}{2:^28s}{3:4s}{4:^6.4f}'.format(fname, pred_class[i],true_class[i], ' ', prob_list[i])\n",
        "                print(msg)\n",
        "\n",
        "                #print(error_list[i]  , pred_class[i], true_class[i], prob_list[i])\n",
        "        else:\n",
        "            msg='With accuracy of 100 % there are no errors to print'\n",
        "            print(msg)\n",
        "        if errors>0:\n",
        "            plot_bar=[]\n",
        "            plot_class=[]\n",
        "        for  key, value in new_dict.items():\n",
        "            count=error_indices.count(key)\n",
        "            if count!=0:\n",
        "                plot_bar.append(count) # list containg how many times a class c had an error\n",
        "                plot_class.append(value)   # stores the class\n",
        "        fig=plt.figure()\n",
        "        fig.set_figheight(len(plot_class)/3)\n",
        "        fig.set_figwidth(10)\n",
        "        plt.style.use('fivethirtyeight')\n",
        "        for i in range(0, len(plot_class)):\n",
        "            c=plot_class[i]\n",
        "            x=plot_bar[i]\n",
        "            plt.barh(c, x, )\n",
        "            plt.title( ' Errors by Class on Test Set')\n",
        "    y_true= np.array(labels)\n",
        "    y_pred=np.array(y_pred)\n",
        "    if len(classes)<= 30:\n",
        "        # create a confusion matrix\n",
        "        cm = confusion_matrix(y_true, y_pred )\n",
        "        length=len(classes)\n",
        "        if length<8:\n",
        "            fig_width=8\n",
        "            fig_height=8\n",
        "        else:\n",
        "            fig_width= int(length * .5)\n",
        "            fig_height= int(length * .5)\n",
        "        plt.figure(figsize=(fig_width, fig_height))\n",
        "        sns.heatmap(cm, annot=True, vmin=0, fmt='g', cmap='Blues', cbar=False)\n",
        "        plt.xticks(np.arange(length)+.5, classes, rotation= 90)\n",
        "        plt.yticks(np.arange(length)+.5, classes, rotation=0)\n",
        "        plt.xlabel(\"Predicted\")\n",
        "        plt.ylabel(\"Actual\")\n",
        "        plt.title(\"Confusion Matrix\")\n",
        "        plt.show()\n",
        "    clr = classification_report(y_true, y_pred, target_names=classes)\n",
        "    print(\"Classification Report:\\n----------------------\\n\", clr)\n",
        "\n",
        "# this function saving trained model\n",
        "def saver(save_path, model, model_name, subject, accuracy,img_size, scalar, generator):\n",
        "    print ('the save path is: ', save_path)\n",
        "    # first save the model\n",
        "    save_id=str (model_name +  '-' + subject +'-'+ str(acc)[:str(acc).rfind('.')+3] + '.h5')\n",
        "    model_save_loc=os.path.join(save_path, save_id)\n",
        "    model.save(model_save_loc)\n",
        "    save_id=str (model_name + '.h5')\n",
        "    model_save_loc=os.path.join(save_path, save_id)\n",
        "    model.save(model_save_loc)\n",
        "    print ('model was saved as ' + model_save_loc)\n",
        "    # now create the class_df and convert to csv file\n",
        "    class_dict=generator.class_indices\n",
        "    height=[]\n",
        "    width=[]\n",
        "    scale=[]\n",
        "    for i in range(len(class_dict)):\n",
        "        height.append(img_size[0])\n",
        "        width.append(img_size[1])\n",
        "        scale.append(scalar)\n",
        "    Index_series=pd.Series(list(class_dict.values()), name='class_index')\n",
        "    Class_series=pd.Series(list(class_dict.keys()), name='class')\n",
        "    Height_series=pd.Series(height, name='height')\n",
        "    Width_series=pd.Series(width, name='width')\n",
        "    Scale_series=pd.Series(scale, name='scale by')\n",
        "    class_df=pd.concat([Index_series, Class_series, Height_series, Width_series, Scale_series], axis=1)\n",
        "    csv_name='class_dict.csv'\n",
        "    csv_save_loc=os.path.join(save_path, csv_name)\n",
        "    class_df.to_csv(csv_save_loc, index=False)\n",
        "    print('class csv file was saved as ' + csv_save_loc)\n",
        "\n",
        "    # Convert SavedModel menjadi satelliteimageclassification.tflite\n",
        "    return model_save_loc, csv_save_loc\n",
        "\n",
        "#Trim a pandas DataFrame so that each group in a specified column has no more than max_size samples and at least min_size samples.\n",
        "def trim (df, max_size, min_size, column):\n",
        "    df=df.copy()\n",
        "    original_class_count= len(list(df[column].unique()))\n",
        "    print ('Original Number of classes in dataframe: ', original_class_count)\n",
        "    sample_list=[]\n",
        "    groups=df.groupby(column)\n",
        "    for label in df[column].unique():\n",
        "        group=groups.get_group(label)\n",
        "        sample_count=len(group)\n",
        "        if sample_count> max_size :\n",
        "            strat=group[column]\n",
        "            samples,_=train_test_split(group, train_size=max_size, shuffle=True, random_state=123, stratify=strat)\n",
        "            sample_list.append(samples)\n",
        "        elif sample_count>= min_size:\n",
        "            sample_list.append(group)\n",
        "    df=pd.concat(sample_list, axis=0).reset_index(drop=True)\n",
        "    final_class_count= len(list(df[column].unique()))\n",
        "    if final_class_count != original_class_count:\n",
        "        print ('*** WARNING***  dataframe has a reduced number of classes' )\n",
        "    balance=list(df[column].value_counts())\n",
        "    print (balance)\n",
        "    return df\n",
        "\n",
        "# This function balances the number of samples in each class of a training dataset by creating\n",
        "def balance(train_df,max_samples, min_samples, column, working_dir, image_size):\n",
        "    train_df=train_df.copy()\n",
        "    train_df=trim (train_df, max_samples, min_samples, column)\n",
        "    # make directories to store augmented images\n",
        "    aug_dir=os.path.join(working_dir, 'aug')\n",
        "    if os.path.isdir(aug_dir):\n",
        "        shutil.rmtree(aug_dir)\n",
        "    os.mkdir(aug_dir)\n",
        "    for label in train_df['labels'].unique():\n",
        "        dir_path=os.path.join(aug_dir,label)\n",
        "        os.mkdir(dir_path)\n",
        "    # create and store the augmented images\n",
        "    total=0\n",
        "    gen=ImageDataGenerator(horizontal_flip=True,  rotation_range=20, width_shift_range=.2,\n",
        "                                  height_shift_range=.2, zoom_range=.2)\n",
        "    groups=train_df.groupby('labels') # group by class\n",
        "    for label in train_df['labels'].unique():  # for every class\n",
        "        group=groups.get_group(label)  # a dataframe holding only rows with the specified label\n",
        "        sample_count=len(group)   # determine how many samples there are in this class\n",
        "        if sample_count< max_samples: # if the class has less than target number of images\n",
        "            aug_img_count=0\n",
        "            delta=max_samples-sample_count  # number of augmented images to create\n",
        "            target_dir=os.path.join(aug_dir, label)  # define where to write the images\n",
        "            aug_gen=gen.flow_from_dataframe( group,  x_col='filepaths', y_col=None, target_size=image_size,\n",
        "                                            class_mode=None, batch_size=1, shuffle=False,\n",
        "                                            save_to_dir=target_dir, save_prefix='augmented_images-', color_mode='rgb',\n",
        "                                            save_format='jpg')\n",
        "            while aug_img_count<delta:\n",
        "                images=next(aug_gen)\n",
        "                aug_img_count += len(images)\n",
        "            total +=aug_img_count\n",
        "    print('Total Augmented images created= ', total)\n",
        "    # create aug_df and merge with train_df to create composite training set ndf\n",
        "    if total>0:\n",
        "        aug_fpaths=[]\n",
        "        aug_labels=[]\n",
        "        classlist=os.listdir(aug_dir)\n",
        "        for klass in classlist:\n",
        "            classpath=os.path.join(aug_dir, klass)\n",
        "            flist=os.listdir(classpath)\n",
        "            for f in flist:\n",
        "                fpath=os.path.join(classpath,f)\n",
        "                aug_fpaths.append(fpath)\n",
        "                aug_labels.append(klass)\n",
        "        Fseries=pd.Series(aug_fpaths, name='filepaths')\n",
        "        Lseries=pd.Series(aug_labels, name='labels')\n",
        "        aug_df=pd.concat([Fseries, Lseries], axis=1)\n",
        "        train_df=pd.concat([train_df,aug_df], axis=0).reset_index(drop=True)\n",
        "\n",
        "    print (list(train_df['labels'].value_counts()) )\n",
        "    return train_df\n",
        "\n",
        "#  Given a source directory containing subdirectories of images, this function preprocesses the images\n",
        "#     and returns three dataframes for training, validation, and testing sets.\n",
        "def preprocess (sdir, trsplit, vsplit):\n",
        "    filepaths=[]\n",
        "    labels=[]\n",
        "    classlist=os.listdir(sdir)\n",
        "    for klass in classlist:\n",
        "        classpath=os.path.join(sdir,klass)\n",
        "        flist=os.listdir(classpath)\n",
        "        for f in flist:\n",
        "            fpath=os.path.join(classpath, f)\n",
        "            filepaths.append(fpath)\n",
        "            labels.append(klass)\n",
        "    Fseries=pd.Series(filepaths, name='filepaths')\n",
        "    Lseries=pd.Series(labels, name='labels')\n",
        "    df=pd.concat([Fseries, Lseries], axis=1)\n",
        "    dsplit=vsplit/(1-trsplit)\n",
        "    strat=df['labels']\n",
        "    train_df, dummy_df=train_test_split(df, train_size=trsplit, shuffle=True, random_state=123, stratify=strat)\n",
        "    strat=dummy_df['labels']\n",
        "    valid_df, test_df= train_test_split(dummy_df, train_size=dsplit, shuffle=True, random_state=123, stratify=strat)\n",
        "    print('train_df length: ', len(train_df), '  test_df length: ',len(test_df), '  valid_df length: ', len(valid_df))\n",
        "     # check that each dataframe has the same number of classes to prevent model.fit errors\n",
        "    trcount=len(train_df['labels'].unique())\n",
        "    tecount=len(test_df['labels'].unique())\n",
        "    vcount=len(valid_df['labels'].unique())\n",
        "    if trcount < tecount :\n",
        "        msg='** WARNING ** number of classes in training set is less than the number of classes in test set'\n",
        "        print(msg)\n",
        "        msg='This will throw an error in either model.evaluate or model.predict'\n",
        "        print(msg)\n",
        "    if trcount != vcount:\n",
        "        msg='** WARNING ** number of classes in training set not equal to number of classes in validation set'\n",
        "        print(msg)\n",
        "        msg=' this will throw an error in model.fit'\n",
        "        print(msg)\n",
        "        print ('train df class count: ', trcount, 'test df class count: ', tecount, ' valid df class count: ', vcount)\n",
        "        ans=input('Enter C to continue execution or H to halt execution')\n",
        "        if ans =='H' or ans == 'h':\n",
        "            print('Halting Execution')\n",
        "            import sys\n",
        "            sys.exit('program halted by user')\n",
        "    print(list(train_df['labels'].value_counts()))\n",
        "    return train_df, test_df, valid_df"
      ]
    },
    {
      "cell_type": "code",
      "execution_count": null,
      "metadata": {
        "colab": {
          "base_uri": "https://localhost:8080/"
        },
        "id": "iLLu4RSyHzS6",
        "outputId": "e986b491-6643-4161-dfd1-7952d9c4073f"
      },
      "outputs": [
        {
          "name": "stdout",
          "output_type": "stream",
          "text": [
            "Drive already mounted at /content/drive; to attempt to forcibly remount, call drive.mount(\"/content/drive\", force_remount=True).\n"
          ]
        }
      ],
      "source": [
        "from google.colab import drive\n",
        "drive.mount('/content/drive')"
      ]
    },
    {
      "cell_type": "code",
      "execution_count": null,
      "metadata": {
        "colab": {
          "base_uri": "https://localhost:8080/"
        },
        "id": "-NdesS61DIrl",
        "outputId": "609c0197-fb65-4c07-a2dc-ade600f674b1"
      },
      "outputs": [
        {
          "name": "stdout",
          "output_type": "stream",
          "text": [
            "unzip:  cannot find or open face_meeting_images.zip, face_meeting_images.zip.zip or face_meeting_images.zip.ZIP.\n"
          ]
        }
      ],
      "source": [
        "!unzip face_meeting_images.zip -d face_meeting_images"
      ]
    },
    {
      "cell_type": "code",
      "execution_count": null,
      "metadata": {
        "id": "AibAPCh0CwQA"
      },
      "outputs": [],
      "source": [
        "from google.colab import files\n",
        "files.upload()"
      ]
    },
    {
      "cell_type": "code",
      "execution_count": 3,
      "metadata": {
        "colab": {
          "base_uri": "https://localhost:8080/"
        },
        "id": "qspT1t6TvclC",
        "outputId": "37f27f90-d8d7-460a-f4a1-045c691c8ffc"
      },
      "outputs": [
        {
          "output_type": "stream",
          "name": "stdout",
          "text": [
            "train_df length:  22991   test_df length:  2874   valid_df length:  2874\n",
            "[5772, 3982, 3882, 3274, 3195, 2537, 349]\n"
          ]
        }
      ],
      "source": [
        "sdir=r'/content/drive/MyDrive/research_project_y4_sliit/face_meeting_images'\n",
        "trsplit=.8\n",
        "vsplit=.1\n",
        "train_df, test_df, valid_df= preprocess(sdir,trsplit, vsplit)"
      ]
    },
    {
      "cell_type": "code",
      "execution_count": 5,
      "metadata": {
        "colab": {
          "base_uri": "https://localhost:8080/"
        },
        "id": "b6AYWYDRvtJo",
        "outputId": "a861d472-fc9d-463c-b337-200d929fc619"
      },
      "outputs": [
        {
          "output_type": "stream",
          "name": "stdout",
          "text": [
            "Original Number of classes in dataframe:  7\n",
            "[150, 150, 150, 150, 150, 150, 150]\n",
            "Total Augmented images created=  0\n",
            "[150, 150, 150, 150, 150, 150, 150]\n"
          ]
        }
      ],
      "source": [
        "max_samples= 150\n",
        "min_samples=0\n",
        "column='labels'\n",
        "working_dir = r'./'\n",
        "img_size=(224,224)\n",
        "train_df=balance(train_df, max_samples, min_samples, column, working_dir, img_size)"
      ]
    },
    {
      "cell_type": "code",
      "execution_count": 6,
      "metadata": {
        "colab": {
          "base_uri": "https://localhost:8080/"
        },
        "id": "SwPBmgmav8LL",
        "outputId": "4f80b000-2430-453e-866d-e5ce206bb2bc"
      },
      "outputs": [
        {
          "output_type": "stream",
          "name": "stdout",
          "text": [
            "test batch size:  6   test steps:  479\n",
            "Found 1050 validated image filenames belonging to 7 classes.\n",
            "Found 2874 validated image filenames belonging to 7 classes.\n",
            "Found 2874 validated image filenames belonging to 7 classes.\n"
          ]
        }
      ],
      "source": [
        "channels=3\n",
        "batch_size=40\n",
        "img_shape=(img_size[0], img_size[1], channels)\n",
        "length=len(test_df)\n",
        "test_batch_size=sorted([int(length/n) for n in range(1,length+1) if length % n ==0 and length/n<=80],reverse=True)[0]\n",
        "test_steps=int(length/test_batch_size)\n",
        "print ( 'test batch size: ' ,test_batch_size, '  test steps: ', test_steps)\n",
        "def scalar(img):\n",
        "    return img  # EfficientNet expects pixelsin range 0 to 255 so no scaling is required\n",
        "trgen=ImageDataGenerator(preprocessing_function=scalar, horizontal_flip=True)\n",
        "tvgen=ImageDataGenerator(preprocessing_function=scalar)\n",
        "train_gen=trgen.flow_from_dataframe( train_df, x_col='filepaths', y_col='labels', target_size=img_size, class_mode='categorical',\n",
        "                                    color_mode='rgb', shuffle=True, batch_size=batch_size)\n",
        "test_gen=tvgen.flow_from_dataframe( test_df, x_col='filepaths', y_col='labels', target_size=img_size, class_mode='categorical',\n",
        "                                    color_mode='rgb', shuffle=False, batch_size=test_batch_size)\n",
        "\n",
        "valid_gen=tvgen.flow_from_dataframe( valid_df, x_col='filepaths', y_col='labels', target_size=img_size, class_mode='categorical',\n",
        "                                    color_mode='rgb', shuffle=True, batch_size=batch_size)\n",
        "classes=list(train_gen.class_indices.keys())\n",
        "class_count=len(classes)\n",
        "train_steps=int(np.ceil(len(train_gen.labels)/batch_size))"
      ]
    },
    {
      "cell_type": "code",
      "execution_count": 7,
      "metadata": {
        "colab": {
          "base_uri": "https://localhost:8080/"
        },
        "id": "ebA6224mwDiv",
        "outputId": "4f7a8770-eb85-4281-ab5a-795f33d375aa"
      },
      "outputs": [
        {
          "output_type": "stream",
          "name": "stdout",
          "text": [
            "Downloading data from https://storage.googleapis.com/tensorflow/keras-applications/resnet/resnet50_weights_tf_dim_ordering_tf_kernels_notop.h5\n",
            "94765736/94765736 [==============================] - 4s 0us/step\n",
            "Model: \"model\"\n",
            "__________________________________________________________________________________________________\n",
            " Layer (type)                   Output Shape         Param #     Connected to                     \n",
            "==================================================================================================\n",
            " input_1 (InputLayer)           [(None, 224, 224, 3  0           []                               \n",
            "                                )]                                                                \n",
            "                                                                                                  \n",
            " conv1_pad (ZeroPadding2D)      (None, 230, 230, 3)  0           ['input_1[0][0]']                \n",
            "                                                                                                  \n",
            " conv1_conv (Conv2D)            (None, 112, 112, 64  9472        ['conv1_pad[0][0]']              \n",
            "                                )                                                                 \n",
            "                                                                                                  \n",
            " conv1_bn (BatchNormalization)  (None, 112, 112, 64  256         ['conv1_conv[0][0]']             \n",
            "                                )                                                                 \n",
            "                                                                                                  \n",
            " conv1_relu (Activation)        (None, 112, 112, 64  0           ['conv1_bn[0][0]']               \n",
            "                                )                                                                 \n",
            "                                                                                                  \n",
            " pool1_pad (ZeroPadding2D)      (None, 114, 114, 64  0           ['conv1_relu[0][0]']             \n",
            "                                )                                                                 \n",
            "                                                                                                  \n",
            " pool1_pool (MaxPooling2D)      (None, 56, 56, 64)   0           ['pool1_pad[0][0]']              \n",
            "                                                                                                  \n",
            " conv2_block1_1_conv (Conv2D)   (None, 56, 56, 64)   4160        ['pool1_pool[0][0]']             \n",
            "                                                                                                  \n",
            " conv2_block1_1_bn (BatchNormal  (None, 56, 56, 64)  256         ['conv2_block1_1_conv[0][0]']    \n",
            " ization)                                                                                         \n",
            "                                                                                                  \n",
            " conv2_block1_1_relu (Activatio  (None, 56, 56, 64)  0           ['conv2_block1_1_bn[0][0]']      \n",
            " n)                                                                                               \n",
            "                                                                                                  \n",
            " conv2_block1_2_conv (Conv2D)   (None, 56, 56, 64)   36928       ['conv2_block1_1_relu[0][0]']    \n",
            "                                                                                                  \n",
            " conv2_block1_2_bn (BatchNormal  (None, 56, 56, 64)  256         ['conv2_block1_2_conv[0][0]']    \n",
            " ization)                                                                                         \n",
            "                                                                                                  \n",
            " conv2_block1_2_relu (Activatio  (None, 56, 56, 64)  0           ['conv2_block1_2_bn[0][0]']      \n",
            " n)                                                                                               \n",
            "                                                                                                  \n",
            " conv2_block1_0_conv (Conv2D)   (None, 56, 56, 256)  16640       ['pool1_pool[0][0]']             \n",
            "                                                                                                  \n",
            " conv2_block1_3_conv (Conv2D)   (None, 56, 56, 256)  16640       ['conv2_block1_2_relu[0][0]']    \n",
            "                                                                                                  \n",
            " conv2_block1_0_bn (BatchNormal  (None, 56, 56, 256)  1024       ['conv2_block1_0_conv[0][0]']    \n",
            " ization)                                                                                         \n",
            "                                                                                                  \n",
            " conv2_block1_3_bn (BatchNormal  (None, 56, 56, 256)  1024       ['conv2_block1_3_conv[0][0]']    \n",
            " ization)                                                                                         \n",
            "                                                                                                  \n",
            " conv2_block1_add (Add)         (None, 56, 56, 256)  0           ['conv2_block1_0_bn[0][0]',      \n",
            "                                                                  'conv2_block1_3_bn[0][0]']      \n",
            "                                                                                                  \n",
            " conv2_block1_out (Activation)  (None, 56, 56, 256)  0           ['conv2_block1_add[0][0]']       \n",
            "                                                                                                  \n",
            " conv2_block2_1_conv (Conv2D)   (None, 56, 56, 64)   16448       ['conv2_block1_out[0][0]']       \n",
            "                                                                                                  \n",
            " conv2_block2_1_bn (BatchNormal  (None, 56, 56, 64)  256         ['conv2_block2_1_conv[0][0]']    \n",
            " ization)                                                                                         \n",
            "                                                                                                  \n",
            " conv2_block2_1_relu (Activatio  (None, 56, 56, 64)  0           ['conv2_block2_1_bn[0][0]']      \n",
            " n)                                                                                               \n",
            "                                                                                                  \n",
            " conv2_block2_2_conv (Conv2D)   (None, 56, 56, 64)   36928       ['conv2_block2_1_relu[0][0]']    \n",
            "                                                                                                  \n",
            " conv2_block2_2_bn (BatchNormal  (None, 56, 56, 64)  256         ['conv2_block2_2_conv[0][0]']    \n",
            " ization)                                                                                         \n",
            "                                                                                                  \n",
            " conv2_block2_2_relu (Activatio  (None, 56, 56, 64)  0           ['conv2_block2_2_bn[0][0]']      \n",
            " n)                                                                                               \n",
            "                                                                                                  \n",
            " conv2_block2_3_conv (Conv2D)   (None, 56, 56, 256)  16640       ['conv2_block2_2_relu[0][0]']    \n",
            "                                                                                                  \n",
            " conv2_block2_3_bn (BatchNormal  (None, 56, 56, 256)  1024       ['conv2_block2_3_conv[0][0]']    \n",
            " ization)                                                                                         \n",
            "                                                                                                  \n",
            " conv2_block2_add (Add)         (None, 56, 56, 256)  0           ['conv2_block1_out[0][0]',       \n",
            "                                                                  'conv2_block2_3_bn[0][0]']      \n",
            "                                                                                                  \n",
            " conv2_block2_out (Activation)  (None, 56, 56, 256)  0           ['conv2_block2_add[0][0]']       \n",
            "                                                                                                  \n",
            " conv2_block3_1_conv (Conv2D)   (None, 56, 56, 64)   16448       ['conv2_block2_out[0][0]']       \n",
            "                                                                                                  \n",
            " conv2_block3_1_bn (BatchNormal  (None, 56, 56, 64)  256         ['conv2_block3_1_conv[0][0]']    \n",
            " ization)                                                                                         \n",
            "                                                                                                  \n",
            " conv2_block3_1_relu (Activatio  (None, 56, 56, 64)  0           ['conv2_block3_1_bn[0][0]']      \n",
            " n)                                                                                               \n",
            "                                                                                                  \n",
            " conv2_block3_2_conv (Conv2D)   (None, 56, 56, 64)   36928       ['conv2_block3_1_relu[0][0]']    \n",
            "                                                                                                  \n",
            " conv2_block3_2_bn (BatchNormal  (None, 56, 56, 64)  256         ['conv2_block3_2_conv[0][0]']    \n",
            " ization)                                                                                         \n",
            "                                                                                                  \n",
            " conv2_block3_2_relu (Activatio  (None, 56, 56, 64)  0           ['conv2_block3_2_bn[0][0]']      \n",
            " n)                                                                                               \n",
            "                                                                                                  \n",
            " conv2_block3_3_conv (Conv2D)   (None, 56, 56, 256)  16640       ['conv2_block3_2_relu[0][0]']    \n",
            "                                                                                                  \n",
            " conv2_block3_3_bn (BatchNormal  (None, 56, 56, 256)  1024       ['conv2_block3_3_conv[0][0]']    \n",
            " ization)                                                                                         \n",
            "                                                                                                  \n",
            " conv2_block3_add (Add)         (None, 56, 56, 256)  0           ['conv2_block2_out[0][0]',       \n",
            "                                                                  'conv2_block3_3_bn[0][0]']      \n",
            "                                                                                                  \n",
            " conv2_block3_out (Activation)  (None, 56, 56, 256)  0           ['conv2_block3_add[0][0]']       \n",
            "                                                                                                  \n",
            " conv3_block1_1_conv (Conv2D)   (None, 28, 28, 128)  32896       ['conv2_block3_out[0][0]']       \n",
            "                                                                                                  \n",
            " conv3_block1_1_bn (BatchNormal  (None, 28, 28, 128)  512        ['conv3_block1_1_conv[0][0]']    \n",
            " ization)                                                                                         \n",
            "                                                                                                  \n",
            " conv3_block1_1_relu (Activatio  (None, 28, 28, 128)  0          ['conv3_block1_1_bn[0][0]']      \n",
            " n)                                                                                               \n",
            "                                                                                                  \n",
            " conv3_block1_2_conv (Conv2D)   (None, 28, 28, 128)  147584      ['conv3_block1_1_relu[0][0]']    \n",
            "                                                                                                  \n",
            " conv3_block1_2_bn (BatchNormal  (None, 28, 28, 128)  512        ['conv3_block1_2_conv[0][0]']    \n",
            " ization)                                                                                         \n",
            "                                                                                                  \n",
            " conv3_block1_2_relu (Activatio  (None, 28, 28, 128)  0          ['conv3_block1_2_bn[0][0]']      \n",
            " n)                                                                                               \n",
            "                                                                                                  \n",
            " conv3_block1_0_conv (Conv2D)   (None, 28, 28, 512)  131584      ['conv2_block3_out[0][0]']       \n",
            "                                                                                                  \n",
            " conv3_block1_3_conv (Conv2D)   (None, 28, 28, 512)  66048       ['conv3_block1_2_relu[0][0]']    \n",
            "                                                                                                  \n",
            " conv3_block1_0_bn (BatchNormal  (None, 28, 28, 512)  2048       ['conv3_block1_0_conv[0][0]']    \n",
            " ization)                                                                                         \n",
            "                                                                                                  \n",
            " conv3_block1_3_bn (BatchNormal  (None, 28, 28, 512)  2048       ['conv3_block1_3_conv[0][0]']    \n",
            " ization)                                                                                         \n",
            "                                                                                                  \n",
            " conv3_block1_add (Add)         (None, 28, 28, 512)  0           ['conv3_block1_0_bn[0][0]',      \n",
            "                                                                  'conv3_block1_3_bn[0][0]']      \n",
            "                                                                                                  \n",
            " conv3_block1_out (Activation)  (None, 28, 28, 512)  0           ['conv3_block1_add[0][0]']       \n",
            "                                                                                                  \n",
            " conv3_block2_1_conv (Conv2D)   (None, 28, 28, 128)  65664       ['conv3_block1_out[0][0]']       \n",
            "                                                                                                  \n",
            " conv3_block2_1_bn (BatchNormal  (None, 28, 28, 128)  512        ['conv3_block2_1_conv[0][0]']    \n",
            " ization)                                                                                         \n",
            "                                                                                                  \n",
            " conv3_block2_1_relu (Activatio  (None, 28, 28, 128)  0          ['conv3_block2_1_bn[0][0]']      \n",
            " n)                                                                                               \n",
            "                                                                                                  \n",
            " conv3_block2_2_conv (Conv2D)   (None, 28, 28, 128)  147584      ['conv3_block2_1_relu[0][0]']    \n",
            "                                                                                                  \n",
            " conv3_block2_2_bn (BatchNormal  (None, 28, 28, 128)  512        ['conv3_block2_2_conv[0][0]']    \n",
            " ization)                                                                                         \n",
            "                                                                                                  \n",
            " conv3_block2_2_relu (Activatio  (None, 28, 28, 128)  0          ['conv3_block2_2_bn[0][0]']      \n",
            " n)                                                                                               \n",
            "                                                                                                  \n",
            " conv3_block2_3_conv (Conv2D)   (None, 28, 28, 512)  66048       ['conv3_block2_2_relu[0][0]']    \n",
            "                                                                                                  \n",
            " conv3_block2_3_bn (BatchNormal  (None, 28, 28, 512)  2048       ['conv3_block2_3_conv[0][0]']    \n",
            " ization)                                                                                         \n",
            "                                                                                                  \n",
            " conv3_block2_add (Add)         (None, 28, 28, 512)  0           ['conv3_block1_out[0][0]',       \n",
            "                                                                  'conv3_block2_3_bn[0][0]']      \n",
            "                                                                                                  \n",
            " conv3_block2_out (Activation)  (None, 28, 28, 512)  0           ['conv3_block2_add[0][0]']       \n",
            "                                                                                                  \n",
            " conv3_block3_1_conv (Conv2D)   (None, 28, 28, 128)  65664       ['conv3_block2_out[0][0]']       \n",
            "                                                                                                  \n",
            " conv3_block3_1_bn (BatchNormal  (None, 28, 28, 128)  512        ['conv3_block3_1_conv[0][0]']    \n",
            " ization)                                                                                         \n",
            "                                                                                                  \n",
            " conv3_block3_1_relu (Activatio  (None, 28, 28, 128)  0          ['conv3_block3_1_bn[0][0]']      \n",
            " n)                                                                                               \n",
            "                                                                                                  \n",
            " conv3_block3_2_conv (Conv2D)   (None, 28, 28, 128)  147584      ['conv3_block3_1_relu[0][0]']    \n",
            "                                                                                                  \n",
            " conv3_block3_2_bn (BatchNormal  (None, 28, 28, 128)  512        ['conv3_block3_2_conv[0][0]']    \n",
            " ization)                                                                                         \n",
            "                                                                                                  \n",
            " conv3_block3_2_relu (Activatio  (None, 28, 28, 128)  0          ['conv3_block3_2_bn[0][0]']      \n",
            " n)                                                                                               \n",
            "                                                                                                  \n",
            " conv3_block3_3_conv (Conv2D)   (None, 28, 28, 512)  66048       ['conv3_block3_2_relu[0][0]']    \n",
            "                                                                                                  \n",
            " conv3_block3_3_bn (BatchNormal  (None, 28, 28, 512)  2048       ['conv3_block3_3_conv[0][0]']    \n",
            " ization)                                                                                         \n",
            "                                                                                                  \n",
            " conv3_block3_add (Add)         (None, 28, 28, 512)  0           ['conv3_block2_out[0][0]',       \n",
            "                                                                  'conv3_block3_3_bn[0][0]']      \n",
            "                                                                                                  \n",
            " conv3_block3_out (Activation)  (None, 28, 28, 512)  0           ['conv3_block3_add[0][0]']       \n",
            "                                                                                                  \n",
            " conv3_block4_1_conv (Conv2D)   (None, 28, 28, 128)  65664       ['conv3_block3_out[0][0]']       \n",
            "                                                                                                  \n",
            " conv3_block4_1_bn (BatchNormal  (None, 28, 28, 128)  512        ['conv3_block4_1_conv[0][0]']    \n",
            " ization)                                                                                         \n",
            "                                                                                                  \n",
            " conv3_block4_1_relu (Activatio  (None, 28, 28, 128)  0          ['conv3_block4_1_bn[0][0]']      \n",
            " n)                                                                                               \n",
            "                                                                                                  \n",
            " conv3_block4_2_conv (Conv2D)   (None, 28, 28, 128)  147584      ['conv3_block4_1_relu[0][0]']    \n",
            "                                                                                                  \n",
            " conv3_block4_2_bn (BatchNormal  (None, 28, 28, 128)  512        ['conv3_block4_2_conv[0][0]']    \n",
            " ization)                                                                                         \n",
            "                                                                                                  \n",
            " conv3_block4_2_relu (Activatio  (None, 28, 28, 128)  0          ['conv3_block4_2_bn[0][0]']      \n",
            " n)                                                                                               \n",
            "                                                                                                  \n",
            " conv3_block4_3_conv (Conv2D)   (None, 28, 28, 512)  66048       ['conv3_block4_2_relu[0][0]']    \n",
            "                                                                                                  \n",
            " conv3_block4_3_bn (BatchNormal  (None, 28, 28, 512)  2048       ['conv3_block4_3_conv[0][0]']    \n",
            " ization)                                                                                         \n",
            "                                                                                                  \n",
            " conv3_block4_add (Add)         (None, 28, 28, 512)  0           ['conv3_block3_out[0][0]',       \n",
            "                                                                  'conv3_block4_3_bn[0][0]']      \n",
            "                                                                                                  \n",
            " conv3_block4_out (Activation)  (None, 28, 28, 512)  0           ['conv3_block4_add[0][0]']       \n",
            "                                                                                                  \n",
            " conv4_block1_1_conv (Conv2D)   (None, 14, 14, 256)  131328      ['conv3_block4_out[0][0]']       \n",
            "                                                                                                  \n",
            " conv4_block1_1_bn (BatchNormal  (None, 14, 14, 256)  1024       ['conv4_block1_1_conv[0][0]']    \n",
            " ization)                                                                                         \n",
            "                                                                                                  \n",
            " conv4_block1_1_relu (Activatio  (None, 14, 14, 256)  0          ['conv4_block1_1_bn[0][0]']      \n",
            " n)                                                                                               \n",
            "                                                                                                  \n",
            " conv4_block1_2_conv (Conv2D)   (None, 14, 14, 256)  590080      ['conv4_block1_1_relu[0][0]']    \n",
            "                                                                                                  \n",
            " conv4_block1_2_bn (BatchNormal  (None, 14, 14, 256)  1024       ['conv4_block1_2_conv[0][0]']    \n",
            " ization)                                                                                         \n",
            "                                                                                                  \n",
            " conv4_block1_2_relu (Activatio  (None, 14, 14, 256)  0          ['conv4_block1_2_bn[0][0]']      \n",
            " n)                                                                                               \n",
            "                                                                                                  \n",
            " conv4_block1_0_conv (Conv2D)   (None, 14, 14, 1024  525312      ['conv3_block4_out[0][0]']       \n",
            "                                )                                                                 \n",
            "                                                                                                  \n",
            " conv4_block1_3_conv (Conv2D)   (None, 14, 14, 1024  263168      ['conv4_block1_2_relu[0][0]']    \n",
            "                                )                                                                 \n",
            "                                                                                                  \n",
            " conv4_block1_0_bn (BatchNormal  (None, 14, 14, 1024  4096       ['conv4_block1_0_conv[0][0]']    \n",
            " ization)                       )                                                                 \n",
            "                                                                                                  \n",
            " conv4_block1_3_bn (BatchNormal  (None, 14, 14, 1024  4096       ['conv4_block1_3_conv[0][0]']    \n",
            " ization)                       )                                                                 \n",
            "                                                                                                  \n",
            " conv4_block1_add (Add)         (None, 14, 14, 1024  0           ['conv4_block1_0_bn[0][0]',      \n",
            "                                )                                 'conv4_block1_3_bn[0][0]']      \n",
            "                                                                                                  \n",
            " conv4_block1_out (Activation)  (None, 14, 14, 1024  0           ['conv4_block1_add[0][0]']       \n",
            "                                )                                                                 \n",
            "                                                                                                  \n",
            " conv4_block2_1_conv (Conv2D)   (None, 14, 14, 256)  262400      ['conv4_block1_out[0][0]']       \n",
            "                                                                                                  \n",
            " conv4_block2_1_bn (BatchNormal  (None, 14, 14, 256)  1024       ['conv4_block2_1_conv[0][0]']    \n",
            " ization)                                                                                         \n",
            "                                                                                                  \n",
            " conv4_block2_1_relu (Activatio  (None, 14, 14, 256)  0          ['conv4_block2_1_bn[0][0]']      \n",
            " n)                                                                                               \n",
            "                                                                                                  \n",
            " conv4_block2_2_conv (Conv2D)   (None, 14, 14, 256)  590080      ['conv4_block2_1_relu[0][0]']    \n",
            "                                                                                                  \n",
            " conv4_block2_2_bn (BatchNormal  (None, 14, 14, 256)  1024       ['conv4_block2_2_conv[0][0]']    \n",
            " ization)                                                                                         \n",
            "                                                                                                  \n",
            " conv4_block2_2_relu (Activatio  (None, 14, 14, 256)  0          ['conv4_block2_2_bn[0][0]']      \n",
            " n)                                                                                               \n",
            "                                                                                                  \n",
            " conv4_block2_3_conv (Conv2D)   (None, 14, 14, 1024  263168      ['conv4_block2_2_relu[0][0]']    \n",
            "                                )                                                                 \n",
            "                                                                                                  \n",
            " conv4_block2_3_bn (BatchNormal  (None, 14, 14, 1024  4096       ['conv4_block2_3_conv[0][0]']    \n",
            " ization)                       )                                                                 \n",
            "                                                                                                  \n",
            " conv4_block2_add (Add)         (None, 14, 14, 1024  0           ['conv4_block1_out[0][0]',       \n",
            "                                )                                 'conv4_block2_3_bn[0][0]']      \n",
            "                                                                                                  \n",
            " conv4_block2_out (Activation)  (None, 14, 14, 1024  0           ['conv4_block2_add[0][0]']       \n",
            "                                )                                                                 \n",
            "                                                                                                  \n",
            " conv4_block3_1_conv (Conv2D)   (None, 14, 14, 256)  262400      ['conv4_block2_out[0][0]']       \n",
            "                                                                                                  \n",
            " conv4_block3_1_bn (BatchNormal  (None, 14, 14, 256)  1024       ['conv4_block3_1_conv[0][0]']    \n",
            " ization)                                                                                         \n",
            "                                                                                                  \n",
            " conv4_block3_1_relu (Activatio  (None, 14, 14, 256)  0          ['conv4_block3_1_bn[0][0]']      \n",
            " n)                                                                                               \n",
            "                                                                                                  \n",
            " conv4_block3_2_conv (Conv2D)   (None, 14, 14, 256)  590080      ['conv4_block3_1_relu[0][0]']    \n",
            "                                                                                                  \n",
            " conv4_block3_2_bn (BatchNormal  (None, 14, 14, 256)  1024       ['conv4_block3_2_conv[0][0]']    \n",
            " ization)                                                                                         \n",
            "                                                                                                  \n",
            " conv4_block3_2_relu (Activatio  (None, 14, 14, 256)  0          ['conv4_block3_2_bn[0][0]']      \n",
            " n)                                                                                               \n",
            "                                                                                                  \n",
            " conv4_block3_3_conv (Conv2D)   (None, 14, 14, 1024  263168      ['conv4_block3_2_relu[0][0]']    \n",
            "                                )                                                                 \n",
            "                                                                                                  \n",
            " conv4_block3_3_bn (BatchNormal  (None, 14, 14, 1024  4096       ['conv4_block3_3_conv[0][0]']    \n",
            " ization)                       )                                                                 \n",
            "                                                                                                  \n",
            " conv4_block3_add (Add)         (None, 14, 14, 1024  0           ['conv4_block2_out[0][0]',       \n",
            "                                )                                 'conv4_block3_3_bn[0][0]']      \n",
            "                                                                                                  \n",
            " conv4_block3_out (Activation)  (None, 14, 14, 1024  0           ['conv4_block3_add[0][0]']       \n",
            "                                )                                                                 \n",
            "                                                                                                  \n",
            " conv4_block4_1_conv (Conv2D)   (None, 14, 14, 256)  262400      ['conv4_block3_out[0][0]']       \n",
            "                                                                                                  \n",
            " conv4_block4_1_bn (BatchNormal  (None, 14, 14, 256)  1024       ['conv4_block4_1_conv[0][0]']    \n",
            " ization)                                                                                         \n",
            "                                                                                                  \n",
            " conv4_block4_1_relu (Activatio  (None, 14, 14, 256)  0          ['conv4_block4_1_bn[0][0]']      \n",
            " n)                                                                                               \n",
            "                                                                                                  \n",
            " conv4_block4_2_conv (Conv2D)   (None, 14, 14, 256)  590080      ['conv4_block4_1_relu[0][0]']    \n",
            "                                                                                                  \n",
            " conv4_block4_2_bn (BatchNormal  (None, 14, 14, 256)  1024       ['conv4_block4_2_conv[0][0]']    \n",
            " ization)                                                                                         \n",
            "                                                                                                  \n",
            " conv4_block4_2_relu (Activatio  (None, 14, 14, 256)  0          ['conv4_block4_2_bn[0][0]']      \n",
            " n)                                                                                               \n",
            "                                                                                                  \n",
            " conv4_block4_3_conv (Conv2D)   (None, 14, 14, 1024  263168      ['conv4_block4_2_relu[0][0]']    \n",
            "                                )                                                                 \n",
            "                                                                                                  \n",
            " conv4_block4_3_bn (BatchNormal  (None, 14, 14, 1024  4096       ['conv4_block4_3_conv[0][0]']    \n",
            " ization)                       )                                                                 \n",
            "                                                                                                  \n",
            " conv4_block4_add (Add)         (None, 14, 14, 1024  0           ['conv4_block3_out[0][0]',       \n",
            "                                )                                 'conv4_block4_3_bn[0][0]']      \n",
            "                                                                                                  \n",
            " conv4_block4_out (Activation)  (None, 14, 14, 1024  0           ['conv4_block4_add[0][0]']       \n",
            "                                )                                                                 \n",
            "                                                                                                  \n",
            " conv4_block5_1_conv (Conv2D)   (None, 14, 14, 256)  262400      ['conv4_block4_out[0][0]']       \n",
            "                                                                                                  \n",
            " conv4_block5_1_bn (BatchNormal  (None, 14, 14, 256)  1024       ['conv4_block5_1_conv[0][0]']    \n",
            " ization)                                                                                         \n",
            "                                                                                                  \n",
            " conv4_block5_1_relu (Activatio  (None, 14, 14, 256)  0          ['conv4_block5_1_bn[0][0]']      \n",
            " n)                                                                                               \n",
            "                                                                                                  \n",
            " conv4_block5_2_conv (Conv2D)   (None, 14, 14, 256)  590080      ['conv4_block5_1_relu[0][0]']    \n",
            "                                                                                                  \n",
            " conv4_block5_2_bn (BatchNormal  (None, 14, 14, 256)  1024       ['conv4_block5_2_conv[0][0]']    \n",
            " ization)                                                                                         \n",
            "                                                                                                  \n",
            " conv4_block5_2_relu (Activatio  (None, 14, 14, 256)  0          ['conv4_block5_2_bn[0][0]']      \n",
            " n)                                                                                               \n",
            "                                                                                                  \n",
            " conv4_block5_3_conv (Conv2D)   (None, 14, 14, 1024  263168      ['conv4_block5_2_relu[0][0]']    \n",
            "                                )                                                                 \n",
            "                                                                                                  \n",
            " conv4_block5_3_bn (BatchNormal  (None, 14, 14, 1024  4096       ['conv4_block5_3_conv[0][0]']    \n",
            " ization)                       )                                                                 \n",
            "                                                                                                  \n",
            " conv4_block5_add (Add)         (None, 14, 14, 1024  0           ['conv4_block4_out[0][0]',       \n",
            "                                )                                 'conv4_block5_3_bn[0][0]']      \n",
            "                                                                                                  \n",
            " conv4_block5_out (Activation)  (None, 14, 14, 1024  0           ['conv4_block5_add[0][0]']       \n",
            "                                )                                                                 \n",
            "                                                                                                  \n",
            " conv4_block6_1_conv (Conv2D)   (None, 14, 14, 256)  262400      ['conv4_block5_out[0][0]']       \n",
            "                                                                                                  \n",
            " conv4_block6_1_bn (BatchNormal  (None, 14, 14, 256)  1024       ['conv4_block6_1_conv[0][0]']    \n",
            " ization)                                                                                         \n",
            "                                                                                                  \n",
            " conv4_block6_1_relu (Activatio  (None, 14, 14, 256)  0          ['conv4_block6_1_bn[0][0]']      \n",
            " n)                                                                                               \n",
            "                                                                                                  \n",
            " conv4_block6_2_conv (Conv2D)   (None, 14, 14, 256)  590080      ['conv4_block6_1_relu[0][0]']    \n",
            "                                                                                                  \n",
            " conv4_block6_2_bn (BatchNormal  (None, 14, 14, 256)  1024       ['conv4_block6_2_conv[0][0]']    \n",
            " ization)                                                                                         \n",
            "                                                                                                  \n",
            " conv4_block6_2_relu (Activatio  (None, 14, 14, 256)  0          ['conv4_block6_2_bn[0][0]']      \n",
            " n)                                                                                               \n",
            "                                                                                                  \n",
            " conv4_block6_3_conv (Conv2D)   (None, 14, 14, 1024  263168      ['conv4_block6_2_relu[0][0]']    \n",
            "                                )                                                                 \n",
            "                                                                                                  \n",
            " conv4_block6_3_bn (BatchNormal  (None, 14, 14, 1024  4096       ['conv4_block6_3_conv[0][0]']    \n",
            " ization)                       )                                                                 \n",
            "                                                                                                  \n",
            " conv4_block6_add (Add)         (None, 14, 14, 1024  0           ['conv4_block5_out[0][0]',       \n",
            "                                )                                 'conv4_block6_3_bn[0][0]']      \n",
            "                                                                                                  \n",
            " conv4_block6_out (Activation)  (None, 14, 14, 1024  0           ['conv4_block6_add[0][0]']       \n",
            "                                )                                                                 \n",
            "                                                                                                  \n",
            " conv5_block1_1_conv (Conv2D)   (None, 7, 7, 512)    524800      ['conv4_block6_out[0][0]']       \n",
            "                                                                                                  \n",
            " conv5_block1_1_bn (BatchNormal  (None, 7, 7, 512)   2048        ['conv5_block1_1_conv[0][0]']    \n",
            " ization)                                                                                         \n",
            "                                                                                                  \n",
            " conv5_block1_1_relu (Activatio  (None, 7, 7, 512)   0           ['conv5_block1_1_bn[0][0]']      \n",
            " n)                                                                                               \n",
            "                                                                                                  \n",
            " conv5_block1_2_conv (Conv2D)   (None, 7, 7, 512)    2359808     ['conv5_block1_1_relu[0][0]']    \n",
            "                                                                                                  \n",
            " conv5_block1_2_bn (BatchNormal  (None, 7, 7, 512)   2048        ['conv5_block1_2_conv[0][0]']    \n",
            " ization)                                                                                         \n",
            "                                                                                                  \n",
            " conv5_block1_2_relu (Activatio  (None, 7, 7, 512)   0           ['conv5_block1_2_bn[0][0]']      \n",
            " n)                                                                                               \n",
            "                                                                                                  \n",
            " conv5_block1_0_conv (Conv2D)   (None, 7, 7, 2048)   2099200     ['conv4_block6_out[0][0]']       \n",
            "                                                                                                  \n",
            " conv5_block1_3_conv (Conv2D)   (None, 7, 7, 2048)   1050624     ['conv5_block1_2_relu[0][0]']    \n",
            "                                                                                                  \n",
            " conv5_block1_0_bn (BatchNormal  (None, 7, 7, 2048)  8192        ['conv5_block1_0_conv[0][0]']    \n",
            " ization)                                                                                         \n",
            "                                                                                                  \n",
            " conv5_block1_3_bn (BatchNormal  (None, 7, 7, 2048)  8192        ['conv5_block1_3_conv[0][0]']    \n",
            " ization)                                                                                         \n",
            "                                                                                                  \n",
            " conv5_block1_add (Add)         (None, 7, 7, 2048)   0           ['conv5_block1_0_bn[0][0]',      \n",
            "                                                                  'conv5_block1_3_bn[0][0]']      \n",
            "                                                                                                  \n",
            " conv5_block1_out (Activation)  (None, 7, 7, 2048)   0           ['conv5_block1_add[0][0]']       \n",
            "                                                                                                  \n",
            " conv5_block2_1_conv (Conv2D)   (None, 7, 7, 512)    1049088     ['conv5_block1_out[0][0]']       \n",
            "                                                                                                  \n",
            " conv5_block2_1_bn (BatchNormal  (None, 7, 7, 512)   2048        ['conv5_block2_1_conv[0][0]']    \n",
            " ization)                                                                                         \n",
            "                                                                                                  \n",
            " conv5_block2_1_relu (Activatio  (None, 7, 7, 512)   0           ['conv5_block2_1_bn[0][0]']      \n",
            " n)                                                                                               \n",
            "                                                                                                  \n",
            " conv5_block2_2_conv (Conv2D)   (None, 7, 7, 512)    2359808     ['conv5_block2_1_relu[0][0]']    \n",
            "                                                                                                  \n",
            " conv5_block2_2_bn (BatchNormal  (None, 7, 7, 512)   2048        ['conv5_block2_2_conv[0][0]']    \n",
            " ization)                                                                                         \n",
            "                                                                                                  \n",
            " conv5_block2_2_relu (Activatio  (None, 7, 7, 512)   0           ['conv5_block2_2_bn[0][0]']      \n",
            " n)                                                                                               \n",
            "                                                                                                  \n",
            " conv5_block2_3_conv (Conv2D)   (None, 7, 7, 2048)   1050624     ['conv5_block2_2_relu[0][0]']    \n",
            "                                                                                                  \n",
            " conv5_block2_3_bn (BatchNormal  (None, 7, 7, 2048)  8192        ['conv5_block2_3_conv[0][0]']    \n",
            " ization)                                                                                         \n",
            "                                                                                                  \n",
            " conv5_block2_add (Add)         (None, 7, 7, 2048)   0           ['conv5_block1_out[0][0]',       \n",
            "                                                                  'conv5_block2_3_bn[0][0]']      \n",
            "                                                                                                  \n",
            " conv5_block2_out (Activation)  (None, 7, 7, 2048)   0           ['conv5_block2_add[0][0]']       \n",
            "                                                                                                  \n",
            " conv5_block3_1_conv (Conv2D)   (None, 7, 7, 512)    1049088     ['conv5_block2_out[0][0]']       \n",
            "                                                                                                  \n",
            " conv5_block3_1_bn (BatchNormal  (None, 7, 7, 512)   2048        ['conv5_block3_1_conv[0][0]']    \n",
            " ization)                                                                                         \n",
            "                                                                                                  \n",
            " conv5_block3_1_relu (Activatio  (None, 7, 7, 512)   0           ['conv5_block3_1_bn[0][0]']      \n",
            " n)                                                                                               \n",
            "                                                                                                  \n",
            " conv5_block3_2_conv (Conv2D)   (None, 7, 7, 512)    2359808     ['conv5_block3_1_relu[0][0]']    \n",
            "                                                                                                  \n",
            " conv5_block3_2_bn (BatchNormal  (None, 7, 7, 512)   2048        ['conv5_block3_2_conv[0][0]']    \n",
            " ization)                                                                                         \n",
            "                                                                                                  \n",
            " conv5_block3_2_relu (Activatio  (None, 7, 7, 512)   0           ['conv5_block3_2_bn[0][0]']      \n",
            " n)                                                                                               \n",
            "                                                                                                  \n",
            " conv5_block3_3_conv (Conv2D)   (None, 7, 7, 2048)   1050624     ['conv5_block3_2_relu[0][0]']    \n",
            "                                                                                                  \n",
            " conv5_block3_3_bn (BatchNormal  (None, 7, 7, 2048)  8192        ['conv5_block3_3_conv[0][0]']    \n",
            " ization)                                                                                         \n",
            "                                                                                                  \n",
            " conv5_block3_add (Add)         (None, 7, 7, 2048)   0           ['conv5_block2_out[0][0]',       \n",
            "                                                                  'conv5_block3_3_bn[0][0]']      \n",
            "                                                                                                  \n",
            " conv5_block3_out (Activation)  (None, 7, 7, 2048)   0           ['conv5_block3_add[0][0]']       \n",
            "                                                                                                  \n",
            " max_pool (GlobalMaxPooling2D)  (None, 2048)         0           ['conv5_block3_out[0][0]']       \n",
            "                                                                                                  \n",
            " batch_normalization (BatchNorm  (None, 2048)        8192        ['max_pool[0][0]']               \n",
            " alization)                                                                                       \n",
            "                                                                                                  \n",
            " dense (Dense)                  (None, 256)          524544      ['batch_normalization[0][0]']    \n",
            "                                                                                                  \n",
            " dropout (Dropout)              (None, 256)          0           ['dense[0][0]']                  \n",
            "                                                                                                  \n",
            " dense_1 (Dense)                (None, 7)            1799        ['dropout[0][0]']                \n",
            "                                                                                                  \n",
            "==================================================================================================\n",
            "Total params: 24,122,247\n",
            "Trainable params: 24,065,031\n",
            "Non-trainable params: 57,216\n",
            "__________________________________________________________________________________________________\n"
          ]
        }
      ],
      "source": [
        "model_name='ResNet50_Facial_Expressions'\n",
        "base_model=tf.keras.applications.ResNet50(include_top=False, weights=\"imagenet\",input_shape=img_shape, pooling='max')\n",
        "x=base_model.output\n",
        "x=keras.layers.BatchNormalization(axis=-1, momentum=0.99, epsilon=0.001 )(x)\n",
        "x = Dense(256, kernel_regularizer = regularizers.l2(l = 0.016),activity_regularizer=regularizers.l1(0.006),\n",
        "                bias_regularizer=regularizers.l1(0.006) ,activation='relu')(x)\n",
        "x=Dropout(rate=.45, seed=123)(x)\n",
        "output=Dense(class_count, activation='softmax')(x)\n",
        "model=tf.keras.Model(inputs=base_model.input, outputs=output)\n",
        "model.compile(Adamax(learning_rate=.001), loss='categorical_crossentropy', metrics=['accuracy'])\n",
        "model.summary()"
      ]
    },
    {
      "cell_type": "code",
      "execution_count": 10,
      "metadata": {
        "id": "_mQZZRz3wRc8"
      },
      "outputs": [],
      "source": [
        "epochs =40\n",
        "patience= 1 # number of epochs to wait to adjust lr if monitored value does not improve\n",
        "stop_patience =3 # number of epochs to wait before stopping training if monitored value does not improve\n",
        "threshold=.95 # if train accuracy is < threshhold adjust monitor accuracy, else monitor validation loss\n",
        "factor=.5 # factor to reduce lr by\n",
        "dwell=True # experimental, if True and monitored metric does not improve on current epoch set  modelweights back to weights of previous epoch\n",
        "freeze=False # if true free weights of  the base model\n",
        "ask_epoch=15 # number of epochs to run before asking if you want to halt training\n",
        "batches=train_steps\n",
        "callbacks=[LRA(model=model,base_model= base_model,patience=patience,stop_patience=stop_patience, threshold=threshold,\n",
        "                   factor=factor,dwell=dwell, batches=batches,initial_epoch=0,epochs=epochs, ask_epoch=ask_epoch )]"
      ]
    },
    {
      "cell_type": "code",
      "execution_count": 11,
      "metadata": {
        "colab": {
          "base_uri": "https://localhost:8080/"
        },
        "id": "-0gQcZUawUFJ",
        "outputId": "232a4fca-a46e-4656-f448-efe9cfd6de48"
      },
      "outputs": [
        {
          "output_type": "stream",
          "name": "stdout",
          "text": [
            " Epoch     Loss   Accuracy  V_loss    V_acc     LR     Next LR  Monitor  % Improv  Duration\n",
            " 1 /40    10.560   22.667  30.47719  12.248   0.00100  0.00100  accuracy     0.00   2890.01 \n",
            " 2 /40     9.411   34.286  61.22374  15.031   0.00100  0.00100  accuracy    51.26   1438.09 \n",
            " 3 /40     8.471   46.381  18.86254  15.727   0.00100  0.00100  accuracy    35.28   1433.44 \n",
            " 4 /40     7.760   61.524  18.60427  22.164   0.00100  0.00100  accuracy    32.65   1438.23 \n",
            " 5 /40     7.110   73.524  10.94407  30.759   0.00100  0.00100  accuracy    19.50   1510.62 \n",
            " 6 /40     6.640   81.143   8.86516  41.058   0.00100  0.00100  accuracy    10.36   1437.08 \n",
            " 7 /40     6.308   86.667   7.31121  35.804   0.00100  0.00100  accuracy     6.81   1448.14 \n",
            " 8 /40     5.926   91.810   7.34193  38.448   0.00100  0.00100  accuracy     5.93   1429.67 \n",
            " 9 /40     5.663   92.095   7.25357  40.884   0.00100  0.00100  accuracy     0.31   1422.70 \n",
            "10 /40     5.375   93.333   6.71681  43.911   0.00100  0.00100  accuracy     1.34   1437.26 \n",
            "11 /40     5.079   96.286   6.28448  45.755   0.00100  0.00100  val_loss     6.44   1434.27 \n",
            "12 /40     4.892   97.238   7.03025  42.276   0.00100  0.00050  val_loss    -11.87  1414.35 \n",
            "13 /40     4.890   97.524   6.11636  45.894   0.00050  0.00050  val_loss     2.68   1413.60 \n",
            "14 /40     4.746   98.000   5.97654  44.955   0.00050  0.00050  val_loss     2.29   1414.39 \n",
            "15 /40     4.613   98.190   5.90070  44.398   0.00050  0.00050  val_loss     1.27   1416.04 \n",
            "enter H to halt training or an integer for number of epochs to run then ask again\n",
            "h\n",
            "training has been halted at epoch 15 due to user input\n",
            "Training is completed - model is set with weights from epoch 15 \n",
            "training elapsed time was 6.0 hours, 35.0 minutes, 4.57 seconds)\n"
          ]
        }
      ],
      "source": [
        "history=model.fit(x=train_gen,  epochs=epochs, verbose=0, callbacks=callbacks,  validation_data=valid_gen,\n",
        "               validation_steps=None,  shuffle=False,  initial_epoch=0)"
      ]
    },
    {
      "cell_type": "code",
      "execution_count": 12,
      "metadata": {
        "id": "0CJr2KwjwYXh",
        "colab": {
          "base_uri": "https://localhost:8080/",
          "height": 563
        },
        "outputId": "24a90234-12b0-4f3d-f025-18d394c52ae5"
      },
      "outputs": [
        {
          "output_type": "display_data",
          "data": {
            "text/plain": [
              "<Figure size 2000x800 with 2 Axes>"
            ],
            "image/png": "[encoded data removed]"
          },
          "metadata": {}
        },
        {
          "output_type": "stream",
          "name": "stdout",
          "text": [
            "479/479 [==============================] - 1756s 4s/step - loss: 5.8555 - accuracy: 0.4464\n",
            "accuracy on the test set is 44.64 %\n",
            "the save path is:  ./\n",
            "model was saved as ./ResNet50_Facial_Expressions.h5\n",
            "class csv file was saved as ./class_dict.csv\n"
          ]
        }
      ],
      "source": [
        "tr_plot(history,0)\n",
        "subject='facial_expressions'\n",
        "acc=model.evaluate( test_gen, verbose=1, steps=test_steps, return_dict=False)[1]*100\n",
        "msg=f'accuracy on the test set is {acc:5.2f} %'\n",
        "print(msg)\n",
        "generator=train_gen\n",
        "scale = 1\n",
        "model_save_loc, csv_save_loc=saver(working_dir, model, model_name, subject, acc, img_size, scale,  generator)"
      ]
    },
    {
      "cell_type": "markdown",
      "source": [],
      "metadata": {
        "id": "VRSpOQ3LbqqA"
      }
    },
    {
      "cell_type": "markdown",
      "source": [],
      "metadata": {
        "id": "zKKTLIt1bfis"
      }
    },
    {
      "cell_type": "markdown",
      "source": [],
      "metadata": {
        "id": "TTKBEMITbUcG"
      }
    },
    {
      "cell_type": "markdown",
      "source": [],
      "metadata": {
        "id": "sVWOoYA9bJU7"
      }
    },
    {
      "cell_type": "markdown",
      "source": [],
      "metadata": {
        "id": "N2hMVwP2a-Oh"
      }
    },
    {
      "cell_type": "markdown",
      "source": [],
      "metadata": {
        "id": "cKjxJ7zvazHS"
      }
    },
    {
      "cell_type": "markdown",
      "source": [],
      "metadata": {
        "id": "FyNkERGean_T"
      }
    },
    {
      "cell_type": "markdown",
      "source": [],
      "metadata": {
        "id": "cIIv8U0kac3N"
      }
    },
    {
      "cell_type": "markdown",
      "source": [],
      "metadata": {
        "id": "gti3AtRuaRxG"
      }
    },
    {
      "cell_type": "markdown",
      "source": [],
      "metadata": {
        "id": "DI9LXX-TaGqd"
      }
    },
    {
      "cell_type": "markdown",
      "source": [],
      "metadata": {
        "id": "P9HJ7m-TZ7kH"
      }
    },
    {
      "cell_type": "markdown",
      "source": [],
      "metadata": {
        "id": "S54Y5tY-Zwcl"
      }
    },
    {
      "cell_type": "markdown",
      "source": [],
      "metadata": {
        "id": "1AT40mk8ZlVw"
      }
    },
    {
      "cell_type": "markdown",
      "source": [],
      "metadata": {
        "id": "YTi9JzXxZaOm"
      }
    },
    {
      "cell_type": "markdown",
      "source": [],
      "metadata": {
        "id": "PmThujAEZPJD"
      }
    },
    {
      "cell_type": "markdown",
      "source": [],
      "metadata": {
        "id": "jdw84mruZECm"
      }
    },
    {
      "cell_type": "markdown",
      "source": [],
      "metadata": {
        "id": "T5C8IWXqY48n"
      }
    },
    {
      "cell_type": "markdown",
      "source": [],
      "metadata": {
        "id": "tgUgobpSYt2j"
      }
    },
    {
      "cell_type": "markdown",
      "source": [],
      "metadata": {
        "id": "ygJNBcjSYiwN"
      }
    },
    {
      "cell_type": "markdown",
      "source": [],
      "metadata": {
        "id": "Tx6eXcY6YXpH"
      }
    },
    {
      "cell_type": "markdown",
      "source": [],
      "metadata": {
        "id": "0ptZdJSNYMiV"
      }
    },
    {
      "cell_type": "markdown",
      "source": [],
      "metadata": {
        "id": "KiUOalCiYBbh"
      }
    },
    {
      "cell_type": "markdown",
      "source": [],
      "metadata": {
        "id": "DeLw0RbjX2VJ"
      }
    },
    {
      "cell_type": "markdown",
      "source": [],
      "metadata": {
        "id": "NHLSx7LsXrNI"
      }
    },
    {
      "cell_type": "markdown",
      "source": [],
      "metadata": {
        "id": "3wfmsV42XgGO"
      }
    },
    {
      "cell_type": "markdown",
      "source": [],
      "metadata": {
        "id": "qjFAOxrdXU_o"
      }
    },
    {
      "cell_type": "markdown",
      "source": [],
      "metadata": {
        "id": "WMegtFCJXJ6c"
      }
    },
    {
      "cell_type": "markdown",
      "source": [],
      "metadata": {
        "id": "XVUnCqhAW-1a"
      }
    },
    {
      "cell_type": "markdown",
      "source": [],
      "metadata": {
        "id": "Men5xBWKWzuV"
      }
    },
    {
      "cell_type": "markdown",
      "source": [],
      "metadata": {
        "id": "_xQvns5lWonw"
      }
    },
    {
      "cell_type": "markdown",
      "source": [],
      "metadata": {
        "id": "-fRtXZ_XWdg_"
      }
    },
    {
      "cell_type": "markdown",
      "source": [],
      "metadata": {
        "id": "c6iBW7UYWSbw"
      }
    },
    {
      "cell_type": "markdown",
      "source": [],
      "metadata": {
        "id": "Wzd9Pa9xWHVF"
      }
    },
    {
      "cell_type": "markdown",
      "source": [],
      "metadata": {
        "id": "K7JWeMlYV8PL"
      }
    },
    {
      "cell_type": "markdown",
      "source": [],
      "metadata": {
        "id": "qAuwDj9TVxIy"
      }
    },
    {
      "cell_type": "markdown",
      "source": [],
      "metadata": {
        "id": "e5jY2bj1VmA6"
      }
    },
    {
      "cell_type": "markdown",
      "source": [],
      "metadata": {
        "id": "Np2G2lKwVa6k"
      }
    },
    {
      "cell_type": "markdown",
      "source": [],
      "metadata": {
        "id": "ViMgAf0WVP1G"
      }
    },
    {
      "cell_type": "markdown",
      "source": [],
      "metadata": {
        "id": "rsyhDlwvVEuJ"
      }
    },
    {
      "cell_type": "markdown",
      "source": [],
      "metadata": {
        "id": "KtfGOZ98U5mP"
      }
    },
    {
      "cell_type": "markdown",
      "source": [],
      "metadata": {
        "id": "_Q3HL2eKUugg"
      }
    },
    {
      "cell_type": "markdown",
      "source": [],
      "metadata": {
        "id": "EQJLZvHoUjYR"
      }
    },
    {
      "cell_type": "markdown",
      "source": [],
      "metadata": {
        "id": "9h_t5kfEUYRC"
      }
    },
    {
      "cell_type": "markdown",
      "source": [],
      "metadata": {
        "id": "wcriAj4GUNLL"
      }
    },
    {
      "cell_type": "markdown",
      "source": [],
      "metadata": {
        "id": "OYbWPZFKUCGS"
      }
    },
    {
      "cell_type": "markdown",
      "source": [],
      "metadata": {
        "id": "NQRsr0SWT3BD"
      }
    },
    {
      "cell_type": "markdown",
      "source": [],
      "metadata": {
        "id": "_d_EYiCsTr6c"
      }
    },
    {
      "cell_type": "markdown",
      "source": [],
      "metadata": {
        "id": "m9RSoiO7Tg1c"
      }
    },
    {
      "cell_type": "markdown",
      "source": [],
      "metadata": {
        "id": "if8NtLGcTVus"
      }
    },
    {
      "cell_type": "markdown",
      "source": [],
      "metadata": {
        "id": "S5ckk23bTKol"
      }
    },
    {
      "cell_type": "markdown",
      "source": [],
      "metadata": {
        "id": "tYtCE0RpS_jc"
      }
    },
    {
      "cell_type": "markdown",
      "source": [],
      "metadata": {
        "id": "uLpaFV2MS0ci"
      }
    },
    {
      "cell_type": "markdown",
      "source": [],
      "metadata": {
        "id": "qLPu9CsQSpWM"
      }
    },
    {
      "cell_type": "markdown",
      "source": [],
      "metadata": {
        "id": "K9d6kqjYSeQB"
      }
    },
    {
      "cell_type": "markdown",
      "source": [],
      "metadata": {
        "id": "8C1syJrFSTK4"
      }
    },
    {
      "cell_type": "markdown",
      "source": [],
      "metadata": {
        "id": "_EszfHOCSIDm"
      }
    },
    {
      "cell_type": "markdown",
      "source": [],
      "metadata": {
        "id": "On_XGzWER89f"
      }
    },
    {
      "cell_type": "markdown",
      "source": [],
      "metadata": {
        "id": "3NBNqUz-Rx5L"
      }
    },
    {
      "cell_type": "markdown",
      "source": [],
      "metadata": {
        "id": "YIBR0IljRmzA"
      }
    },
    {
      "cell_type": "markdown",
      "source": [],
      "metadata": {
        "id": "zQDgjaxDRbsi"
      }
    },
    {
      "cell_type": "markdown",
      "source": [],
      "metadata": {
        "id": "dgIBt9oiRQkm"
      }
    },
    {
      "cell_type": "markdown",
      "source": [],
      "metadata": {
        "id": "jQhnbRyPRFeR"
      }
    },
    {
      "cell_type": "markdown",
      "source": [],
      "metadata": {
        "id": "nBE7N6VhQ6YR"
      }
    },
    {
      "cell_type": "markdown",
      "source": [],
      "metadata": {
        "id": "_JCDGFC5QvRk"
      }
    },
    {
      "cell_type": "markdown",
      "source": [],
      "metadata": {
        "id": "OVxsYXwcQkLp"
      }
    },
    {
      "cell_type": "markdown",
      "source": [],
      "metadata": {
        "id": "TT38B4psQZFO"
      }
    },
    {
      "cell_type": "markdown",
      "source": [],
      "metadata": {
        "id": "CvaEVcu-QN_Q"
      }
    },
    {
      "cell_type": "markdown",
      "source": [],
      "metadata": {
        "id": "ME0V36qXQC49"
      }
    },
    {
      "cell_type": "markdown",
      "source": [],
      "metadata": {
        "id": "HOK0k2TNP30Z"
      }
    },
    {
      "cell_type": "markdown",
      "source": [],
      "metadata": {
        "id": "T9wC25SEPstt"
      }
    },
    {
      "cell_type": "markdown",
      "source": [],
      "metadata": {
        "id": "uFx4Br-8Phon"
      }
    },
    {
      "cell_type": "markdown",
      "source": [],
      "metadata": {
        "id": "JkTQRy6WPWjJ"
      }
    },
    {
      "cell_type": "markdown",
      "source": [],
      "metadata": {
        "id": "pKcTJx_ZPLdn"
      }
    },
    {
      "cell_type": "markdown",
      "source": [],
      "metadata": {
        "id": "KPyKcCOUPAXb"
      }
    },
    {
      "cell_type": "markdown",
      "source": [],
      "metadata": {
        "id": "9U_HvDzsO1R7"
      }
    },
    {
      "cell_type": "markdown",
      "source": [],
      "metadata": {
        "id": "VFw_sCf0OqKU"
      }
    },
    {
      "cell_type": "markdown",
      "source": [],
      "metadata": {
        "id": "88xlfEI7OfEV"
      }
    },
    {
      "cell_type": "markdown",
      "source": [],
      "metadata": {
        "id": "FHPfRJu-OT_S"
      }
    },
    {
      "cell_type": "markdown",
      "source": [],
      "metadata": {
        "id": "RsMI1tuaOI5O"
      }
    },
    {
      "cell_type": "markdown",
      "source": [],
      "metadata": {
        "id": "FeHSgnMoN9zF"
      }
    },
    {
      "cell_type": "markdown",
      "source": [],
      "metadata": {
        "id": "mDzmO7S_Nytk"
      }
    },
    {
      "cell_type": "markdown",
      "source": [],
      "metadata": {
        "id": "WE4gk_P1Nnn3"
      }
    },
    {
      "cell_type": "markdown",
      "source": [],
      "metadata": {
        "id": "XQKunGoxNcin"
      }
    },
    {
      "cell_type": "markdown",
      "source": [],
      "metadata": {
        "id": "S0CNxo8CNRbP"
      }
    },
    {
      "cell_type": "markdown",
      "source": [],
      "metadata": {
        "id": "nNOd4uVBNGUl"
      }
    },
    {
      "cell_type": "markdown",
      "source": [],
      "metadata": {
        "id": "Ei4RVa0JM7N4"
      }
    },
    {
      "cell_type": "markdown",
      "source": [],
      "metadata": {
        "id": "CNJW8wuQMwF2"
      }
    },
    {
      "cell_type": "markdown",
      "source": [],
      "metadata": {
        "id": "UjWt1iHQMk_0"
      }
    },
    {
      "cell_type": "markdown",
      "source": [],
      "metadata": {
        "id": "4uwtsObMMZ6A"
      }
    },
    {
      "cell_type": "markdown",
      "source": [],
      "metadata": {
        "id": "Vdo2ELtUMO0M"
      }
    },
    {
      "cell_type": "markdown",
      "source": [],
      "metadata": {
        "id": "-a3TMmoRMDt4"
      }
    },
    {
      "cell_type": "markdown",
      "source": [],
      "metadata": {
        "id": "kPJ64rHWL4nV"
      }
    },
    {
      "cell_type": "markdown",
      "source": [],
      "metadata": {
        "id": "JMrmLPE4LthS"
      }
    },
    {
      "cell_type": "markdown",
      "source": [],
      "metadata": {
        "id": "qcbXW9cWLicD"
      }
    },
    {
      "cell_type": "code",
      "execution_count": 13,
      "metadata": {
        "id": "84MS8VtOvYDP",
        "colab": {
          "base_uri": "https://localhost:8080/",
          "height": 1000
        },
        "outputId": "c8ff5aa5-d8cb-4f8e-d882-ccd378cb55d0"
      },
      "outputs": [
        {
          "output_type": "stream",
          "name": "stdout",
          "text": [
            "479/479 [==============================] - 572s 1s/step\n"
          ]
        },
        {
          "output_type": "display_data",
          "data": {
            "text/plain": [
              "<Figure size 800x800 with 1 Axes>"
            ],
            "image/png": "[encoded data removed]"
          },
          "metadata": {}
        },
        {
          "output_type": "stream",
          "name": "stdout",
          "text": [
            "Classification Report:\n",
            "----------------------\n",
            "               precision    recall  f1-score   support\n",
            "\n",
            "       angry       0.39      0.26      0.31       400\n",
            "   disgusted       0.22      0.47      0.30        43\n",
            "     fearful       0.34      0.26      0.30       409\n",
            "       happy       0.81      0.51      0.62       722\n",
            "     neutral       0.41      0.44      0.42       498\n",
            "         sad       0.31      0.53      0.39       485\n",
            "   surprised       0.56      0.67      0.61       317\n",
            "\n",
            "    accuracy                           0.45      2874\n",
            "   macro avg       0.43      0.45      0.42      2874\n",
            "weighted avg       0.49      0.45      0.45      2874\n",
            "\n"
          ]
        }
      ],
      "source": [
        "print_code=0\n",
        "preds=model.predict(test_gen, steps=test_steps, verbose=1)\n",
        "print_info( test_gen, preds, print_code, working_dir, subject )"
      ]
    },
    {
      "cell_type": "code",
      "execution_count": 14,
      "metadata": {
        "id": "7TKj6KZ9ggV8"
      },
      "outputs": [],
      "source": [
        "# load model and and use\n",
        "def test_img(img):\n",
        "  model_path = '/content/ResNet50_Facial_Expressions-facial_expressions-48.12.h5'\n",
        "  img_size = (224, 224)\n",
        "  fpath=img\n",
        "  img=plt.imread(fpath)\n",
        "  print ('Input image shape is ', img.shape)\n",
        "  # resize the image so it is the same size as the images the model was trained on\n",
        "  img=cv2.resize(img, img_size) # in earlier code img_size=(224,224) was used for training the model\n",
        "  print ('the resized image has shape ', img.shape)\n",
        "  ### show the resized image\n",
        "  # plt.imshow(img)\n",
        "  # Normally the next line of code rescales the images. However the EfficientNet model expects images in the range 0 to 255\n",
        "  # plt.imread returns a numpy array so it is not necessary to convert the image to a numpy array\n",
        "  # since we have only one image we have to expand the dimensions of img so it is off the form (1,224,224,3)\n",
        "  # where the first dimension 1 is the batch size used by model.predict\n",
        "  img=np.expand_dims(img, axis=0)\n",
        "  print ('image shape after expanding dimensions is ',img.shape)\n",
        "  # now predict the image\n",
        "  pred=model.predict(img)\n",
        "  print (' the shape of prediction is ', pred.shape)\n",
        "  # this dataset has 15 classes so model.predict will return a list of 15 probability values\n",
        "  # we want to find the index of the column that has the highest probability\n",
        "  index=np.argmax(pred[0])\n",
        "  # to get the actual Name of the class earlier Imade a list of the class names called classes\n",
        "  klass=classes[index]\n",
        "\n",
        "  # lets get the value of the highest probability\n",
        "  probability = pred[0][index] * 100\n",
        "  if probability < 30:\n",
        "      print(\"Try again.\")\n",
        "  else:\n",
        "      # Print out the class and the probability.\n",
        "      print('The image is predicted as being', klass, 'with a probability of', probability)"
      ]
    },
    {
      "cell_type": "code",
      "execution_count": 16,
      "metadata": {
        "id": "eEzdI5YGGKD2",
        "colab": {
          "base_uri": "https://localhost:8080/"
        },
        "outputId": "40e3df0d-66df-41c6-8e0c-cc88ad6f5c0f"
      },
      "outputs": [
        {
          "output_type": "stream",
          "name": "stdout",
          "text": [
            "Input image shape is  (137, 110, 3)\n",
            "the resized image has shape  (224, 224, 3)\n",
            "image shape after expanding dimensions is  (1, 224, 224, 3)\n",
            "1/1 [==============================] - 2s 2s/step\n",
            " the shape of prediction is  (1, 7)\n",
            "The image is predicted as being sad with a probability of 58.27180743217468\n"
          ]
        }
      ],
      "source": [
        "test_img('/content/test03.jpg')"
      ]
    },
    {
      "cell_type": "code",
      "source": [
        "test_img('/content/test01.jpeg')"
      ],
      "metadata": {
        "colab": {
          "base_uri": "https://localhost:8080/"
        },
        "id": "07-xK8SNeggF",
        "outputId": "88794515-7f1d-4535-b959-75aafe0f2197"
      },
      "execution_count": 20,
      "outputs": [
        {
          "output_type": "stream",
          "name": "stdout",
          "text": [
            "Input image shape is  (368, 356, 3)\n",
            "the resized image has shape  (224, 224, 3)\n",
            "image shape after expanding dimensions is  (1, 224, 224, 3)\n",
            "1/1 [==============================] - 1s 599ms/step\n",
            " the shape of prediction is  (1, 7)\n",
            "The image is predicted as being sad with a probability of 60.52460074424744\n"
          ]
        }
      ]
    },
    {
      "cell_type": "code",
      "source": [
        "test_img('/content/test02.jpeg')"
      ],
      "metadata": {
        "colab": {
          "base_uri": "https://localhost:8080/"
        },
        "id": "lml2ziRbegTt",
        "outputId": "0d26938d-a3e3-4787-c394-c9af7dc94e9d"
      },
      "execution_count": 21,
      "outputs": [
        {
          "output_type": "stream",
          "name": "stdout",
          "text": [
            "Input image shape is  (383, 342, 3)\n",
            "the resized image has shape  (224, 224, 3)\n",
            "image shape after expanding dimensions is  (1, 224, 224, 3)\n",
            "1/1 [==============================] - 0s 201ms/step\n",
            " the shape of prediction is  (1, 7)\n",
            "The image is predicted as being sad with a probability of 50.81395506858826\n"
          ]
        }
      ]
    },
    {
      "cell_type": "code",
      "source": [
        "model.save(\"face_model.h5\")"
      ],
      "metadata": {
        "id": "4w-6uGK5IPP2"
      },
      "execution_count": 18,
      "outputs": []
    },
    {
      "cell_type": "code",
      "source": [
        "import shutil\n",
        "\n",
        "# Source and destination paths\n",
        "source_path = '/content/face_model.h5'\n",
        "destination_path = '/content/drive/MyDrive/research_project_y4_sliit/models'\n",
        "\n",
        "# Copy the file\n",
        "shutil.copy(source_path, destination_path)"
      ],
      "metadata": {
        "id": "GkRfhVW5VsfT",
        "colab": {
          "base_uri": "https://localhost:8080/",
          "height": 36
        },
        "outputId": "3b15ce51-ca3b-4473-eec6-15ec2adb428c"
      },
      "execution_count": 19,
      "outputs": [
        {
          "output_type": "execute_result",
          "data": {
            "text/plain": [
              "'/content/drive/MyDrive/research_project_y4_sliit/models/face_model.h5'"
            ],
            "application/vnd.google.colaboratory.intrinsic+json": {
              "type": "string"
            }
          },
          "metadata": {},
          "execution_count": 19
        }
      ]
    }
  ],
  "metadata": {
    "colab": {
      "provenance": [],
      "mount_file_id": "1r6ehZ2sj9PV20331-bkTVTyWOpsd15Sh",
      "authorship_tag": "ABX9TyO+SPfyVuwC1ipDnDbxMH35",
      "include_colab_link": true
    },
    "kernelspec": {
      "display_name": "Python 3",
      "name": "python3"
    },
    "language_info": {
      "name": "python"
    }
  },
  "nbformat": 4,
  "nbformat_minor": 0
}