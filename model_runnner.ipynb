{
  "nbformat": 4,
  "nbformat_minor": 0,
  "metadata": {
    "colab": {
      "provenance": [],
      "authorship_tag": "ABX9TyMk/eGQZxefeq524Z0KToPR",
      "include_colab_link": true
    },
    "kernelspec": {
      "name": "python3",
      "display_name": "Python 3"
    },
    "language_info": {
      "name": "python"
    }
  },
  "cells": [
    {
      "cell_type": "markdown",
      "metadata": {
        "id": "view-in-github",
        "colab_type": "text"
      },
      "source": [
        "<a href=\"https://colab.research.google.com/github/InukshiSenarathne/chatbot_colab_testing/blob/main/model_runnner.ipynb\" target=\"_parent\"><img src=\"https://colab.research.google.com/assets/colab-badge.svg\" alt=\"Open In Colab\"/></a>"
      ]
    },
    {
      "cell_type": "code",
      "source": [
        "from google.colab import drive\n",
        "drive.mount('/content/drive')"
      ],
      "metadata": {
        "colab": {
          "base_uri": "https://localhost:8080/"
        },
        "id": "710K1EjWR6Qa",
        "outputId": "9dbf6bab-7ccd-42ad-d097-ed7fec2c62c2"
      },
      "execution_count": 1,
      "outputs": [
        {
          "output_type": "stream",
          "name": "stdout",
          "text": [
            "Mounted at /content/drive\n"
          ]
        }
      ]
    },
    {
      "cell_type": "markdown",
      "source": [
        "TEXT ANALYZER"
      ],
      "metadata": {
        "id": "4vcTSzF9RuvB"
      }
    },
    {
      "cell_type": "code",
      "source": [
        "from transformers import AutoTokenizer, AutoModelForSequenceClassification\n",
        "import torch\n",
        "\n",
        "def predict_emotion(text, model_path, class_names):\n",
        "    # Load the tokenizer associated with the model\n",
        "    tokenizer = AutoTokenizer.from_pretrained(model_path)\n",
        "\n",
        "    # Tokenize the input text\n",
        "    inputs = tokenizer(text, return_tensors=\"pt\", padding=True, truncation=True)\n",
        "\n",
        "    # Load the model\n",
        "    loaded_model = AutoModelForSequenceClassification.from_pretrained(model_path)\n",
        "\n",
        "    # Make predictions\n",
        "    with torch.no_grad():\n",
        "        outputs = loaded_model(**inputs)\n",
        "        logits = outputs.logits\n",
        "\n",
        "    # Get the predicted class (assuming it's a classification model)\n",
        "    predicted_class = torch.argmax(logits, dim=1).item()\n",
        "\n",
        "    # Get the emotion label name\n",
        "    predicted_label = class_names[predicted_class]\n",
        "\n",
        "    # Get the confidence score (softmax probability) and round it to two decimal points\n",
        "    confidence_score = round(torch.softmax(logits, dim=1)[0][predicted_class].item()*100, 2)\n",
        "\n",
        "    return predicted_label, confidence_score"
      ],
      "metadata": {
        "id": "vhSZUquhRt9Q"
      },
      "execution_count": null,
      "outputs": []
    },
    {
      "cell_type": "code",
      "execution_count": null,
      "metadata": {
        "id": "NDjoLEpnRq8U"
      },
      "outputs": [],
      "source": [
        "# Example usage:\n",
        "model_path = \"/content/drive/MyDrive/research_project_y4_sliit/models/finalized_models/text\"  # Replace with the actual path to your saved model\n",
        "class_names = ['sadness', 'joy', 'love', 'anger', 'fear', 'surprise']\n",
        "text = \"i'm disappointed with my career\"\n",
        "\n",
        "predicted_label, confidence_score = predict_emotion(text, model_path, class_names)\n",
        "# Print the predicted label and confidence score\n",
        "print(f\"Predicted Emotion: {predicted_label}, Predicted accuracy: {confidence_score}%\")"
      ]
    }
  ]
}