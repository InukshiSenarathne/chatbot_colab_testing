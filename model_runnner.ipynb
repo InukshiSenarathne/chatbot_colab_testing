{
  "nbformat": 4,
  "nbformat_minor": 0,
  "metadata": {
    "colab": {
      "provenance": [],
      "authorship_tag": "ABX9TyO+f6UMjoKaa1MSwhcBlzd+",
      "include_colab_link": true
    },
    "kernelspec": {
      "name": "python3",
      "display_name": "Python 3"
    },
    "language_info": {
      "name": "python"
    }
  },
  "cells": [
    {
      "cell_type": "markdown",
      "metadata": {
        "id": "view-in-github",
        "colab_type": "text"
      },
      "source": [
        "<a href=\"https://colab.research.google.com/github/InukshiSenarathne/chatbot_colab_testing/blob/main/model_runnner.ipynb\" target=\"_parent\"><img src=\"https://colab.research.google.com/assets/colab-badge.svg\" alt=\"Open In Colab\"/></a>"
      ]
    },
    {
      "cell_type": "code",
      "source": [
        "from google.colab import drive\n",
        "drive.mount('/content/drive')"
      ],
      "metadata": {
        "colab": {
          "base_uri": "https://localhost:8080/"
        },
        "id": "710K1EjWR6Qa",
        "outputId": "9dbf6bab-7ccd-42ad-d097-ed7fec2c62c2"
      },
      "execution_count": 1,
      "outputs": [
        {
          "output_type": "stream",
          "name": "stdout",
          "text": [
            "Mounted at /content/drive\n"
          ]
        }
      ]
    },
    {
      "cell_type": "markdown",
      "source": [
        "TEXT ANALYZER"
      ],
      "metadata": {
        "id": "4vcTSzF9RuvB"
      }
    },
    {
      "cell_type": "code",
      "source": [
        "!pip install transformers"
      ],
      "metadata": {
        "id": "95XXHzX1SRFd"
      },
      "execution_count": null,
      "outputs": []
    },
    {
      "cell_type": "code",
      "source": [
        "from transformers import AutoTokenizer, AutoModelForSequenceClassification\n",
        "import torch\n",
        "\n",
        "def predict_emotion(text, model_path, class_names):\n",
        "    # Load the tokenizer associated with the model\n",
        "    tokenizer = AutoTokenizer.from_pretrained(model_path)\n",
        "\n",
        "    # Tokenize the input text\n",
        "    inputs = tokenizer(text, return_tensors=\"pt\", padding=True, truncation=True)\n",
        "\n",
        "    # Load the model\n",
        "    loaded_model = AutoModelForSequenceClassification.from_pretrained(model_path)\n",
        "\n",
        "    # Make predictions\n",
        "    with torch.no_grad():\n",
        "        outputs = loaded_model(**inputs)\n",
        "        logits = outputs.logits\n",
        "\n",
        "    # Get the predicted class (assuming it's a classification model)\n",
        "    predicted_class = torch.argmax(logits, dim=1).item()\n",
        "\n",
        "    # Get the emotion label name\n",
        "    predicted_label = class_names[predicted_class]\n",
        "\n",
        "    # Get the confidence score (softmax probability) and round it to two decimal points\n",
        "    confidence_score = round(torch.softmax(logits, dim=1)[0][predicted_class].item()*100, 2)\n",
        "\n",
        "    return predicted_label, confidence_score"
      ],
      "metadata": {
        "id": "vhSZUquhRt9Q"
      },
      "execution_count": 4,
      "outputs": []
    },
    {
      "cell_type": "code",
      "execution_count": 5,
      "metadata": {
        "colab": {
          "base_uri": "https://localhost:8080/"
        },
        "id": "NDjoLEpnRq8U",
        "outputId": "2c32ac65-7e67-42e3-80a7-d33a072971e0"
      },
      "outputs": [
        {
          "output_type": "stream",
          "name": "stdout",
          "text": [
            "Predicted Emotion: sadness, Predicted accuracy: 98.06%\n"
          ]
        }
      ],
      "source": [
        "# Example usage:\n",
        "model_path = \"/content/drive/MyDrive/research_project_y4_sliit/models/finalized_models/text\"  # Replace with the actual path to your saved model\n",
        "class_names = ['sadness', 'joy', 'love', 'anger', 'fear', 'surprise']\n",
        "text = \"i'm disappointed with my career\"\n",
        "\n",
        "predicted_label, confidence_score = predict_emotion(text, model_path, class_names)\n",
        "# Print the predicted label and confidence score\n",
        "print(f\"Predicted Emotion: {predicted_label}, Predicted accuracy: {confidence_score}%\")"
      ]
    },
    {
      "cell_type": "markdown",
      "source": [
        "--------------------------------------------------------------------------"
      ],
      "metadata": {
        "id": "scX8g-43Sru4"
      }
    },
    {
      "cell_type": "markdown",
      "source": [
        "TEXT ANALYZER"
      ],
      "metadata": {
        "id": "eIkHQxEpSrCO"
      }
    },
    {
      "cell_type": "code",
      "source": [
        "!pip install pandas numpy librosa matplotlib pydub tensorflow scikit-learn seaborn\n",
        "!pip install moviepy pydub"
      ],
      "metadata": {
        "id": "3Rpn9m8YSqgh"
      },
      "execution_count": null,
      "outputs": []
    },
    {
      "cell_type": "code",
      "source": [
        "import os\n",
        "import pandas as pd\n",
        "import numpy as np\n",
        "import librosa\n",
        "from pydub import AudioSegment, effects\n",
        "from sklearn.metrics import confusion_matrix\n",
        "import matplotlib.pyplot as plt\n",
        "import seaborn as sns\n",
        "from keras.models import load_model\n",
        "import moviepy.editor as mp\n",
        "from pydub import AudioSegment\n",
        "\n",
        "FRAME_LENGTH = 2048\n",
        "HOP_LENGTH = 512\n",
        "MODEL_PATH = \"/content/drive/MyDrive/research_project_y4_sliit/models/finalized_models/voice/voice.h5\"\n",
        "\n",
        "def preprocess_audio(path):\n",
        "    _, sr = librosa.load(path)\n",
        "    raw_audio = AudioSegment.from_file(path)\n",
        "\n",
        "    samples = np.array(raw_audio.get_array_of_samples(), dtype='float32')\n",
        "    trimmed, _ = librosa.effects.trim(samples, top_db=25)\n",
        "    padded = np.pad(trimmed, (0, 180000 - len(trimmed)), 'constant')\n",
        "    return padded, sr\n",
        "\n",
        "def test_single_audio(audio_path):\n",
        "    model = load_model(MODEL_PATH)\n",
        "    y, sr = preprocess_audio(audio_path)\n",
        "\n",
        "    zcr = librosa.feature.zero_crossing_rate(y, frame_length=FRAME_LENGTH, hop_length=HOP_LENGTH)\n",
        "    rms = librosa.feature.rms(y=y, frame_length=FRAME_LENGTH, hop_length=HOP_LENGTH)\n",
        "    mfccs = librosa.feature.mfcc(y=y, sr=sr, n_mfcc=13, hop_length=HOP_LENGTH)\n",
        "\n",
        "    # Ensure that all feature arrays have the same shape\n",
        "    max_len = min(zcr.shape[1], rms.shape[1], mfccs.shape[1])\n",
        "    zcr = zcr[:, :max_len]\n",
        "    rms = rms[:, :max_len]\n",
        "    mfccs = mfccs[:, :max_len]\n",
        "\n",
        "    X_test = np.concatenate((zcr, rms, mfccs), axis=0)  # Concatenate along axis 0\n",
        "    X_test = X_test.T  # Transpose to match the shape\n",
        "    X_test = X_test.astype('float32')\n",
        "\n",
        "    y_pred = model.predict(np.expand_dims(X_test, axis=0))\n",
        "    # print(y_pred)\n",
        "    emotion_labels = ['neutral', 'happy', 'sad', 'angry', 'fear', 'disgust']\n",
        "    predicted_emotion = emotion_labels[np.argmax(y_pred)]\n",
        "    accuracy = np.amax(y_pred)*100\n",
        "\n",
        "    print(f\"Predicted Emotion: {predicted_emotion}, Predicted accuracy: {round(accuracy, 2)}%\")\n"
      ],
      "metadata": {
        "id": "3wR_HIlaSnvd"
      },
      "execution_count": 10,
      "outputs": []
    },
    {
      "cell_type": "code",
      "source": [
        "test_single_audio(\"/content/drive/MyDrive/research_project_y4_sliit/voice_meeting_clips/OAF_happy/OAF_bean_happy.wav\")"
      ],
      "metadata": {
        "colab": {
          "base_uri": "https://localhost:8080/"
        },
        "id": "QXhXLndETn5J",
        "outputId": "7a4423ec-2976-40cf-eeca-477d66064eac"
      },
      "execution_count": 9,
      "outputs": [
        {
          "output_type": "stream",
          "name": "stdout",
          "text": [
            "1/1 [==============================] - 1s 1s/step\n",
            "Predicted Emotion: happy, Predicted accuracy: 99.84%\n"
          ]
        }
      ]
    },
    {
      "cell_type": "markdown",
      "source": [
        "--------------------------------------------------------------------------"
      ],
      "metadata": {
        "id": "zGl_ps8_T70L"
      }
    },
    {
      "cell_type": "markdown",
      "source": [
        "FACE ANALYZER"
      ],
      "metadata": {
        "id": "1h1XtVUAUBzw"
      }
    }
  ]
}